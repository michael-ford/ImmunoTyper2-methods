{
 "cells": [
  {
   "cell_type": "code",
   "execution_count": 1,
   "id": "1a4edf59",
   "metadata": {},
   "outputs": [],
   "source": [
    "#!/usr/bin/env python\n",
    "# coding: utf-8\n",
    "\n"
   ]
  },
  {
   "cell_type": "code",
   "execution_count": 2,
   "id": "494a347d",
   "metadata": {},
   "outputs": [],
   "source": [
    "# # Prefix Consistency Gene-Level Accuracy Distribution Analysis\n",
    "#\n",
    "# This notebook analyzes how prefix consistency thresholds affect accuracy for individual genes within each gene type.\n",
    "# It generates bar charts showing the distribution of sensitivity and false positive rates\n",
    "# at different prefix consistency thresholds for each functional gene.\n",
    "\n"
   ]
  },
  {
   "cell_type": "code",
   "execution_count": 3,
   "id": "245dd496",
   "metadata": {},
   "outputs": [],
   "source": [
    "# ## Setup and Imports\n",
    "\n",
    "# Import necessary libraries\n",
    "import pandas as pd\n",
    "import numpy as np\n",
    "import matplotlib.pyplot as plt\n",
    "import seaborn as sns\n",
    "from sklearn.metrics import confusion_matrix\n",
    "from collections import defaultdict\n",
    "import os\n",
    "import warnings\n",
    "from IPython.display import display, Markdown\n",
    "warnings.filterwarnings('ignore')  # Suppress warnings for cleaner output\n",
    "\n",
    "# Set visualization style\n",
    "plt.style.use('seaborn-v0_8-whitegrid')\n",
    "sns.set_palette('viridis')\n",
    "\n",
    "# Set display options\n",
    "pd.set_option('display.max_columns', None)\n",
    "pd.set_option('display.max_rows', 50)\n",
    "pd.set_option('display.precision', 4)\n",
    "\n",
    "# Define base directories (UPDATE THESE PATHS if necessary)\n",
    "PREFIX_CONSISTENCY_BASE_DIR = \"prefix-consistency/\"\n",
    "GROUND_TRUTH_BASE_DIR = \"../../HPRC-assembly-benchmarking/digger-functional-annotations-all\"\n",
    "\n",
    "# List of gene types to process\n",
    "GENE_TYPES_TO_PROCESS = [\"IGHV\", \"IGLV\", \"IGKV\", \"TRAV\", \"TRGV\", \"TRDV\"]\n",
    "\n"
   ]
  },
  {
   "cell_type": "code",
   "execution_count": 4,
   "id": "d624d9e9",
   "metadata": {},
   "outputs": [],
   "source": [
    "# ## Helper Functions for Data Loading\n",
    "# \n",
    "# These functions are reused from the original code to load prefix consistency and ground truth data.\n",
    "\n"
   ]
  },
  {
   "cell_type": "code",
   "execution_count": 5,
   "id": "35ea8ab4",
   "metadata": {},
   "outputs": [],
   "source": [
    "def load_ground_truth_data(gene_type, ground_truth_base_dir):\n",
    "    \"\"\"\n",
    "    Load ground truth functional allele data for the given gene type.\n",
    "\n",
    "    Args:\n",
    "        gene_type (str): Gene type (e.g., \"IGLV\")\n",
    "        ground_truth_base_dir (str): Path to the base directory containing sample ground truth folders.\n",
    "\n",
    "    Returns:\n",
    "        pd.DataFrame: DataFrame with sample_id and allele_id columns, or None if data cannot be loaded.\n",
    "    \"\"\"\n",
    "    # For V-genes, the file prefix usually doesn't include 'V'\n",
    "    file_prefix = gene_type.replace('V', '') if 'V' in gene_type else gene_type\n",
    "    file_name = f\"{file_prefix}_functional_alleles.txt\"\n",
    "\n",
    "    truth_data = []\n",
    "\n",
    "    if not os.path.isdir(ground_truth_base_dir):\n",
    "        print(f\"❌ Error: Ground truth base directory not found: {ground_truth_base_dir}\")\n",
    "        return None\n",
    "\n",
    "    # Find all sample directories\n",
    "    try:\n",
    "        sample_dirs = [d for d in os.listdir(ground_truth_base_dir)\n",
    "                      if os.path.isdir(os.path.join(ground_truth_base_dir, d))]\n",
    "    except FileNotFoundError:\n",
    "        print(f\"❌ Error: Could not list directories in {ground_truth_base_dir}\")\n",
    "        return None\n",
    "\n",
    "    print(f\"Found {len(sample_dirs)} potential sample directories in ground truth data.\")\n",
    "    if not sample_dirs:\n",
    "        print(f\"⚠️ Warning: No sample directories found in {ground_truth_base_dir}\")\n",
    "        return pd.DataFrame(columns=['sample_id', 'allele_id'])\n",
    "\n",
    "    processed_samples = 0\n",
    "    for sample_dir in sample_dirs:\n",
    "        file_path = os.path.join(ground_truth_base_dir, sample_dir, file_name)\n",
    "\n",
    "        # Extract sample ID from directory name\n",
    "        sample_id = sample_dir.split('.')[0]\n",
    "\n",
    "        # Check if the file exists\n",
    "        if os.path.exists(file_path):\n",
    "            try:\n",
    "                with open(file_path, 'r') as f:\n",
    "                    lines = f.readlines()\n",
    "                    loaded_count = 0\n",
    "                    # Skip header lines starting with '#'\n",
    "                    for line in lines:\n",
    "                        if not line.startswith('#') and line.strip():\n",
    "                            allele_id = line.strip()\n",
    "                            truth_data.append({\n",
    "                                'sample_id': sample_id,\n",
    "                                'allele_id': allele_id\n",
    "                            })\n",
    "                            loaded_count += 1\n",
    "                if loaded_count > 0:\n",
    "                     processed_samples += 1\n",
    "            except Exception as e:\n",
    "                print(f\"  ⚠️ Error reading {file_path}: {str(e)}\")\n",
    "\n",
    "    if not truth_data:\n",
    "         print(f\"⚠️ Warning: No ground truth data loaded for gene type {gene_type}.\")\n",
    "         return pd.DataFrame(columns=['sample_id', 'allele_id'])\n",
    "\n",
    "    print(f\"Successfully processed ground truth for {processed_samples} samples for {gene_type}.\")\n",
    "    # Create DataFrame from collected data\n",
    "    truth_df = pd.DataFrame(truth_data)\n",
    "    return truth_df\n",
    "\n"
   ]
  },
  {
   "cell_type": "code",
   "execution_count": 6,
   "id": "6effd278",
   "metadata": {},
   "outputs": [],
   "source": [
    "# ## Helper Functions for Calculating Gene-Level Metrics\n",
    "\n"
   ]
  },
  {
   "cell_type": "code",
   "execution_count": 7,
   "id": "a6b13d99",
   "metadata": {},
   "outputs": [],
   "source": [
    "def extract_gene_from_allele(allele_id):\n",
    "    \"\"\"\n",
    "    Extract the gene name from an allele ID.\n",
    "    \n",
    "    Args:\n",
    "        allele_id (str): Allele ID string (e.g., 'IGHV1-2*01')\n",
    "        \n",
    "    Returns:\n",
    "        str: Gene name (e.g., 'IGHV1-2')\n",
    "    \"\"\"\n",
    "    # Extract gene part (remove allele designation after *)\n",
    "    if '*' in allele_id:\n",
    "        return allele_id.split('*')[0]\n",
    "    return allele_id\n",
    "\n",
    "def calculate_gene_level_metrics(prefix_df):\n",
    "    \"\"\"\n",
    "    Calculate gene-level metrics for different prefix consistency thresholds.\n",
    "    \n",
    "    Args:\n",
    "        prefix_df (pd.DataFrame): DataFrame with prefix consistency data and ground truth status\n",
    "        \n",
    "    Returns:\n",
    "        dict: Nested dictionary with metrics for each gene at each threshold\n",
    "    \"\"\"\n",
    "    # Add gene column\n",
    "    prefix_df['gene'] = prefix_df['allele_id'].apply(extract_gene_from_allele)\n",
    "    \n",
    "    # Initialize results dictionary\n",
    "    gene_metrics = defaultdict(lambda: defaultdict(lambda: {'tp': 0, 'fp': 0, 'tn': 0, 'fn': 0}))\n",
    "    \n",
    "    # Get unique genes\n",
    "    genes = prefix_df['gene'].unique()\n",
    "    \n",
    "    # Process each threshold\n",
    "    thresholds = range(6)  # 0-5\n",
    "    \n",
    "    for gene in genes:\n",
    "        gene_df = prefix_df[prefix_df['gene'] == gene]\n",
    "        \n",
    "        # Skip genes with too few samples\n",
    "        if len(gene_df) < 5:\n",
    "            continue\n",
    "            \n",
    "        # Get TP and FP counts\n",
    "        tp_alleles = gene_df[gene_df['status'] == 'TP']\n",
    "        fp_alleles = gene_df[gene_df['status'] == 'FP']\n",
    "        \n",
    "        for threshold in thresholds:\n",
    "            # For alleles above threshold\n",
    "            tp_above = tp_alleles[tp_alleles['prefix_consistency'] >= threshold]\n",
    "            fp_above = fp_alleles[fp_alleles['prefix_consistency'] >= threshold]\n",
    "            \n",
    "            # For alleles below threshold\n",
    "            tp_below = tp_alleles[tp_alleles['prefix_consistency'] < threshold]\n",
    "            fp_below = fp_alleles[fp_alleles['prefix_consistency'] < threshold]\n",
    "            \n",
    "            # Store counts\n",
    "            gene_metrics[gene][threshold]['tp'] = len(tp_above)\n",
    "            gene_metrics[gene][threshold]['fp'] = len(fp_above)\n",
    "            gene_metrics[gene][threshold]['tn'] = len(fp_below)\n",
    "            gene_metrics[gene][threshold]['fn'] = len(tp_below)\n",
    "    \n",
    "    return gene_metrics\n",
    "\n",
    "def calculate_performance_metrics(gene_metrics):\n",
    "    \"\"\"\n",
    "    Calculate sensitivity, false positive rate, PPV, and F-beta score for each gene at each threshold.\n",
    "    \n",
    "    Args:\n",
    "        gene_metrics (dict): Nested dictionary with counts for each gene at each threshold\n",
    "        \n",
    "    Returns:\n",
    "        pd.DataFrame: DataFrame with calculated metrics\n",
    "    \"\"\"\n",
    "    results = []\n",
    "    \n",
    "    for gene, thresholds in gene_metrics.items():\n",
    "        for threshold, counts in thresholds.items():\n",
    "            # Calculate metrics\n",
    "            sensitivity = counts['tp'] / (counts['tp'] + counts['fn']) if (counts['tp'] + counts['fn']) > 0 else 0\n",
    "            fpr = counts['fp'] / (counts['fp'] + counts['tn']) if (counts['fp'] + counts['tn']) > 0 else 0\n",
    "            # Calculate PPV (Positive Predictive Value)\n",
    "            ppv = counts['tp'] / (counts['tp'] + counts['fp']) if (counts['tp'] + counts['fp']) > 0 else 0\n",
    "            \n",
    "            # Calculate F-beta score with beta = 0.5 (prioritizing PPV over sensitivity)\n",
    "            beta = 0.5\n",
    "            beta_squared = beta * beta\n",
    "            f_beta = (1 + beta_squared) * (ppv * sensitivity) / (beta_squared * ppv + sensitivity) if (beta_squared * ppv + sensitivity) > 0 else 0\n",
    "            \n",
    "            # Store results\n",
    "            results.append({\n",
    "                'gene': gene,\n",
    "                'threshold': threshold,\n",
    "                'sensitivity': sensitivity,\n",
    "                'fpr': fpr,\n",
    "                'ppv': ppv,\n",
    "                'f_beta': f_beta,\n",
    "                'tp': counts['tp'],\n",
    "                'fp': counts['fp'],\n",
    "                'tn': counts['tn'],\n",
    "                'fn': counts['fn'],\n",
    "                'total_samples': counts['tp'] + counts['fp'] + counts['tn'] + counts['fn'],\n",
    "                'passing_calls': counts['tp'] + counts['fp'],\n",
    "                'passing_proportion': (counts['tp'] + counts['fp']) / (counts['tp'] + counts['fp'] + counts['tn'] + counts['fn']) \n",
    "                                     if (counts['tp'] + counts['fp'] + counts['tn'] + counts['fn']) > 0 else 0\n",
    "            })\n",
    "    \n",
    "    return pd.DataFrame(results)\n",
    "\n"
   ]
  },
  {
   "cell_type": "code",
   "execution_count": 8,
   "id": "74fdc45f",
   "metadata": {},
   "outputs": [],
   "source": [
    "# ## New Functions for Finding Optimal Thresholds and Calculating Summary Metrics\n",
    "\n",
    "def find_optimal_thresholds(metrics_df):\n",
    "    \"\"\"\n",
    "    Find the threshold that maximizes F-beta score (beta=0.5) for each gene.\n",
    "    Threshold 0 is excluded from consideration as an optimal threshold.\n",
    "    \n",
    "    Args:\n",
    "        metrics_df (pd.DataFrame): DataFrame with gene metrics for different thresholds\n",
    "        \n",
    "    Returns:\n",
    "        pd.DataFrame: DataFrame with optimal threshold for each gene\n",
    "    \"\"\"\n",
    "    optimal_thresholds = []\n",
    "    \n",
    "    # Get all unique genes\n",
    "    genes = metrics_df['gene'].unique()\n",
    "    \n",
    "    for gene in genes:\n",
    "        # Filter data for this gene\n",
    "        gene_df = metrics_df[metrics_df['gene'] == gene]\n",
    "        \n",
    "        # Exclude threshold 0 from consideration\n",
    "        gene_df_filtered = gene_df[gene_df['threshold'] > 0]\n",
    "        \n",
    "        # If we have data after filtering\n",
    "        if not gene_df_filtered.empty:\n",
    "            # Find threshold with maximum F-beta score\n",
    "            max_f_beta = gene_df_filtered['f_beta'].max()\n",
    "            best_rows = gene_df_filtered[gene_df_filtered['f_beta'] == max_f_beta].sort_values('threshold', ascending=False)\n",
    "            \n",
    "            if not best_rows.empty:\n",
    "                best_row = best_rows.iloc[0]\n",
    "                \n",
    "                optimal_thresholds.append({\n",
    "                    'gene': gene,\n",
    "                    'optimal_threshold': best_row['threshold'],\n",
    "                    'f_beta': best_row['f_beta'],\n",
    "                    'ppv': best_row['ppv'],\n",
    "                    'sensitivity': best_row['sensitivity'],\n",
    "                    'fpr': best_row['fpr'],\n",
    "                    'passing_proportion': best_row['passing_proportion']\n",
    "                })\n",
    "    \n",
    "    return pd.DataFrame(optimal_thresholds)\n",
    "\n",
    "def calculate_gene_type_metrics(optimal_thresholds_df):\n",
    "    \"\"\"\n",
    "    Calculate average and median metrics across all genes for a gene type.\n",
    "    \n",
    "    Args:\n",
    "        optimal_thresholds_df (pd.DataFrame): DataFrame with optimal thresholds for each gene\n",
    "        \n",
    "    Returns:\n",
    "        dict: Dictionary with aggregated metrics\n",
    "    \"\"\"\n",
    "    metrics = {\n",
    "        'num_genes': len(optimal_thresholds_df),\n",
    "        'mean_ppv': optimal_thresholds_df['ppv'].mean(),\n",
    "        'median_ppv': optimal_thresholds_df['ppv'].median(),\n",
    "        'mean_sensitivity': optimal_thresholds_df['sensitivity'].mean(),\n",
    "        'median_sensitivity': optimal_thresholds_df['sensitivity'].median(),\n",
    "        'mean_f_beta': optimal_thresholds_df['f_beta'].mean(),\n",
    "        'median_f_beta': optimal_thresholds_df['f_beta'].median(),\n",
    "        'mean_passing_proportion': optimal_thresholds_df['passing_proportion'].mean(),\n",
    "        'median_passing_proportion': optimal_thresholds_df['passing_proportion'].median(),\n",
    "        'threshold_distribution': optimal_thresholds_df['optimal_threshold'].value_counts().to_dict()\n",
    "    }\n",
    "    \n",
    "    return metrics\n",
    "\n",
    "def create_summary_table(gene_types_metrics):\n",
    "    \"\"\"\n",
    "    Create a summary table of metrics for all gene types.\n",
    "    \n",
    "    Args:\n",
    "        gene_types_metrics (dict): Dictionary with metrics for each gene type\n",
    "        \n",
    "    Returns:\n",
    "        pd.DataFrame: Summary table\n",
    "    \"\"\"\n",
    "    summary_data = []\n",
    "    \n",
    "    for gene_type, metrics in gene_types_metrics.items():\n",
    "        summary_data.append({\n",
    "            'Gene Type': gene_type,\n",
    "            'Number of Genes': metrics['num_genes'],\n",
    "            'Mean PPV': metrics['mean_ppv'],\n",
    "            'Median PPV': metrics['median_ppv'],\n",
    "            'Mean Sensitivity': metrics['mean_sensitivity'],\n",
    "            'Median Sensitivity': metrics['median_sensitivity'],\n",
    "            'Mean F-beta (beta=0.5)': metrics['mean_f_beta'],\n",
    "            'Median F-beta (beta=0.5)': metrics['median_f_beta'],\n",
    "            'Mean Passing Proportion': metrics['mean_passing_proportion'],\n",
    "            'Median Passing Proportion': metrics['median_passing_proportion']\n",
    "        })\n",
    "    \n",
    "    summary_df = pd.DataFrame(summary_data)\n",
    "    \n",
    "    # Format numeric columns\n",
    "    numeric_cols = [\n",
    "        'Mean PPV', 'Median PPV', \n",
    "        'Mean Sensitivity', 'Median Sensitivity',\n",
    "        'Mean F-beta (beta=0.5)', 'Median F-beta (beta=0.5)',\n",
    "        'Mean Passing Proportion', 'Median Passing Proportion'\n",
    "    ]\n",
    "    \n",
    "    for col in numeric_cols:\n",
    "        summary_df[col] = summary_df[col].map('{:.4f}'.format)\n",
    "    \n",
    "    return summary_df\n",
    "\n"
   ]
  },
  {
   "cell_type": "code",
   "execution_count": 9,
   "id": "8f33ef65",
   "metadata": {},
   "outputs": [],
   "source": [
    "# ## Removed per-gene plotting functionality as it's not needed\n",
    "# ## We'll focus only on the summary table generation\n",
    "\n"
   ]
  },
  {
   "cell_type": "code",
   "execution_count": 10,
   "id": "5e9a56cf",
   "metadata": {},
   "outputs": [],
   "source": [
    "# ## Main Processing Function\n",
    "\n",
    "def process_gene_type(gene_type, collect_metrics=True):\n",
    "    \"\"\"\n",
    "    Process data for a specific gene type.\n",
    "    \n",
    "    Args:\n",
    "        gene_type (str): Gene type to process\n",
    "        collect_metrics (bool): Whether to return metrics for summary table\n",
    "        \n",
    "    Returns:\n",
    "        dict: Dictionary with gene type metrics (if collect_metrics=True)\n",
    "    \"\"\"\n",
    "    display(Markdown(f\"## Processing Gene Type: {gene_type}\"))\n",
    "    \n",
    "    # Define paths\n",
    "    results_dir = os.path.join(PREFIX_CONSISTENCY_BASE_DIR, f\"{gene_type.lower()}/\")\n",
    "    all_samples_file = os.path.join(results_dir, f\"all_samples_{gene_type}_prefix_consistency.csv\")\n",
    "    \n",
    "    # Initialize return value\n",
    "    gene_type_metrics = None\n",
    "    \n",
    "    # Check if file exists\n",
    "    if not os.path.exists(all_samples_file):\n",
    "        display(Markdown(f\"⚠️ **Warning**: Prefix consistency file not found for {gene_type}. Please check the path.\"))\n",
    "        display(Markdown(f\"  *Expected path: `{all_samples_file}`*\"))\n",
    "    else:\n",
    "        # Load prefix consistency data\n",
    "        try:\n",
    "            prefix_df = pd.read_csv(all_samples_file)\n",
    "            display(Markdown(f\"✅ Loaded prefix consistency data for **{gene_type}**\"))\n",
    "            display(Markdown(f\"* Total rows: {len(prefix_df)}\"))\n",
    "            display(Markdown(f\"* Number of samples: {prefix_df['sample_id'].nunique()}\"))\n",
    "            display(Markdown(f\"* Number of unique alleles: {prefix_df['allele_id'].nunique()}\"))\n",
    "            \n",
    "            # Filter to functional alleles only\n",
    "            prefix_df = prefix_df[prefix_df['is_functional']].copy()\n",
    "            prefix_df = prefix_df[prefix_df['in_optimal']].copy()\n",
    "            display(Markdown(f\"* Filtered to {len(prefix_df)} functional alleles\"))\n",
    "            \n",
    "            # Load ground truth data\n",
    "            truth_df = load_ground_truth_data(gene_type, GROUND_TRUTH_BASE_DIR)\n",
    "            \n",
    "            if truth_df is not None and not truth_df.empty:\n",
    "                display(Markdown(f\"✅ Loaded ground truth data with {len(truth_df)} entries\"))\n",
    "                \n",
    "                # Prepare for comparison - find common samples\n",
    "                prefix_samples = set(prefix_df['sample_id'].unique())\n",
    "                truth_samples = set(truth_df['sample_id'].unique())\n",
    "                common_samples = prefix_samples.intersection(truth_samples)\n",
    "                \n",
    "                display(Markdown(f\"* Found {len(common_samples)} common samples for comparison\"))\n",
    "                \n",
    "                # Filter to common samples\n",
    "                prefix_df_filtered = prefix_df[prefix_df['sample_id'].isin(common_samples)].copy()\n",
    "                truth_df_filtered = truth_df[truth_df['sample_id'].isin(common_samples)].copy()\n",
    "                \n",
    "                # Create sample-allele keys\n",
    "                prefix_df_filtered['sample_allele'] = prefix_df_filtered['sample_id'] + '_' + prefix_df_filtered['allele_id']\n",
    "                truth_df_filtered['sample_allele'] = truth_df_filtered['sample_id'] + '_' + truth_df_filtered['allele_id']\n",
    "                \n",
    "                # Find TP and FP sets\n",
    "                pred_set = set(prefix_df_filtered['sample_allele'])\n",
    "                truth_set = set(truth_df_filtered['sample_allele'])\n",
    "                tp_set = pred_set.intersection(truth_set)\n",
    "                fp_set = pred_set - truth_set\n",
    "                \n",
    "                # Assign TP/FP status\n",
    "                prefix_df_filtered['status'] = 'Unknown'\n",
    "                prefix_df_filtered.loc[prefix_df_filtered['sample_allele'].isin(tp_set), 'status'] = 'TP'\n",
    "                prefix_df_filtered.loc[prefix_df_filtered['sample_allele'].isin(fp_set), 'status'] = 'FP'\n",
    "                \n",
    "                # Filter to known status\n",
    "                known_status_df = prefix_df_filtered[prefix_df_filtered['status'].isin(['TP', 'FP'])].copy()\n",
    "                \n",
    "                if not known_status_df.empty:\n",
    "                    display(Markdown(f\"* Identified {(known_status_df['status'] == 'TP').sum()} True Positives\"))\n",
    "                    display(Markdown(f\"* Identified {(known_status_df['status'] == 'FP').sum()} False Positives\"))\n",
    "                    \n",
    "                    # Calculate gene-level metrics\n",
    "                    display(Markdown(\"## Calculating Gene-Level Metrics\"))\n",
    "                    gene_metrics = calculate_gene_level_metrics(known_status_df)\n",
    "                    \n",
    "                    # Convert to DataFrame for visualization\n",
    "                    metrics_df = calculate_performance_metrics(gene_metrics)\n",
    "                    \n",
    "                    display(Markdown(f\"* Calculated metrics for {metrics_df['gene'].nunique()} genes across 6 thresholds\"))\n",
    "                    \n",
    "                    # Display sample of metrics for inspection\n",
    "                    display(Markdown(\"### Sample of Calculated Metrics\"))\n",
    "                    display(metrics_df.head(10))\n",
    "                    \n",
    "                    # Find optimal threshold for each gene based on F-beta score (beta=0.5)\n",
    "                    display(Markdown(\"## Finding Optimal Thresholds Based on F-beta Score (beta=0.5)\"))\n",
    "                    optimal_thresholds = find_optimal_thresholds(metrics_df)\n",
    "                    display(Markdown(f\"* Identified optimal thresholds for {len(optimal_thresholds)} genes\"))\n",
    "                    display(optimal_thresholds.head())\n",
    "                    \n",
    "                    # Calculate gene type metrics\n",
    "                    if collect_metrics:\n",
    "                        gene_type_metrics = calculate_gene_type_metrics(optimal_thresholds)\n",
    "                        display(Markdown(\"## Gene Type Metrics Summary\"))\n",
    "                        display(Markdown(f\"* Number of genes analyzed: {gene_type_metrics['num_genes']}\"))\n",
    "                        display(Markdown(f\"* Mean PPV: {gene_type_metrics['mean_ppv']:.4f}\"))\n",
    "                        display(Markdown(f\"* Median PPV: {gene_type_metrics['median_ppv']:.4f}\"))\n",
    "                        display(Markdown(f\"* Mean Sensitivity: {gene_type_metrics['mean_sensitivity']:.4f}\"))\n",
    "                        display(Markdown(f\"* Median Sensitivity: {gene_type_metrics['median_sensitivity']:.4f}\"))\n",
    "                        display(Markdown(f\"* Mean F-beta (beta=0.5): {gene_type_metrics['mean_f_beta']:.4f}\"))\n",
    "                        display(Markdown(f\"* Median F-beta (beta=0.5): {gene_type_metrics['median_f_beta']:.4f}\"))\n",
    "                        display(Markdown(f\"* Mean passing proportion: {gene_type_metrics['mean_passing_proportion']:.4f}\"))\n",
    "                        display(Markdown(f\"* Median passing proportion: {gene_type_metrics['median_passing_proportion']:.4f}\"))\n",
    "                        \n",
    "                        # Display threshold distribution\n",
    "                        display(Markdown(\"* Optimal threshold distribution:\"))\n",
    "                        threshold_dist = pd.Series(gene_type_metrics['threshold_distribution']).sort_index()\n",
    "                        display(threshold_dist)\n",
    "                    \n",
    "                    # Removed per-gene visualization section as it's not needed\n",
    "                    \n",
    "                else:\n",
    "                    display(Markdown(\"❌ No TP or FP calls identified after comparison. Cannot proceed with analysis.\"))\n",
    "            else:\n",
    "                display(Markdown(\"❌ Failed to load ground truth data or no data found.\"))\n",
    "        \n",
    "        except Exception as e:\n",
    "            display(Markdown(f\"❌ **Error**: An error occurred during processing: {str(e)}\"))\n",
    "    \n",
    "    return gene_type_metrics\n",
    "\n"
   ]
  },
  {
   "cell_type": "code",
   "execution_count": 11,
   "id": "84ff91f7",
   "metadata": {},
   "outputs": [
    {
     "data": {
      "text/markdown": [
       "## Processing Gene Type: IGHV"
      ],
      "text/plain": [
       "<IPython.core.display.Markdown object>"
      ]
     },
     "metadata": {},
     "output_type": "display_data"
    },
    {
     "data": {
      "text/markdown": [
       "✅ Loaded prefix consistency data for **IGHV**"
      ],
      "text/plain": [
       "<IPython.core.display.Markdown object>"
      ]
     },
     "metadata": {},
     "output_type": "display_data"
    },
    {
     "data": {
      "text/markdown": [
       "* Total rows: 12693"
      ],
      "text/plain": [
       "<IPython.core.display.Markdown object>"
      ]
     },
     "metadata": {},
     "output_type": "display_data"
    },
    {
     "data": {
      "text/markdown": [
       "* Number of samples: 39"
      ],
      "text/plain": [
       "<IPython.core.display.Markdown object>"
      ]
     },
     "metadata": {},
     "output_type": "display_data"
    },
    {
     "data": {
      "text/markdown": [
       "* Number of unique alleles: 643"
      ],
      "text/plain": [
       "<IPython.core.display.Markdown object>"
      ]
     },
     "metadata": {},
     "output_type": "display_data"
    },
    {
     "data": {
      "text/markdown": [
       "* Filtered to 2356 functional alleles"
      ],
      "text/plain": [
       "<IPython.core.display.Markdown object>"
      ]
     },
     "metadata": {},
     "output_type": "display_data"
    },
    {
     "name": "stdout",
     "output_type": "stream",
     "text": [
      "Found 94 potential sample directories in ground truth data.\n",
      "Successfully processed ground truth for 94 samples for IGHV.\n"
     ]
    },
    {
     "data": {
      "text/markdown": [
       "✅ Loaded ground truth data with 4009 entries"
      ],
      "text/plain": [
       "<IPython.core.display.Markdown object>"
      ]
     },
     "metadata": {},
     "output_type": "display_data"
    },
    {
     "data": {
      "text/markdown": [
       "* Found 39 common samples for comparison"
      ],
      "text/plain": [
       "<IPython.core.display.Markdown object>"
      ]
     },
     "metadata": {},
     "output_type": "display_data"
    },
    {
     "data": {
      "text/markdown": [
       "* Identified 1964 True Positives"
      ],
      "text/plain": [
       "<IPython.core.display.Markdown object>"
      ]
     },
     "metadata": {},
     "output_type": "display_data"
    },
    {
     "data": {
      "text/markdown": [
       "* Identified 392 False Positives"
      ],
      "text/plain": [
       "<IPython.core.display.Markdown object>"
      ]
     },
     "metadata": {},
     "output_type": "display_data"
    },
    {
     "data": {
      "text/markdown": [
       "## Calculating Gene-Level Metrics"
      ],
      "text/plain": [
       "<IPython.core.display.Markdown object>"
      ]
     },
     "metadata": {},
     "output_type": "display_data"
    },
    {
     "data": {
      "text/markdown": [
       "* Calculated metrics for 52 genes across 6 thresholds"
      ],
      "text/plain": [
       "<IPython.core.display.Markdown object>"
      ]
     },
     "metadata": {},
     "output_type": "display_data"
    },
    {
     "data": {
      "text/markdown": [
       "### Sample of Calculated Metrics"
      ],
      "text/plain": [
       "<IPython.core.display.Markdown object>"
      ]
     },
     "metadata": {},
     "output_type": "display_data"
    },
    {
     "data": {
      "text/html": [
       "<div>\n",
       "<style scoped>\n",
       "    .dataframe tbody tr th:only-of-type {\n",
       "        vertical-align: middle;\n",
       "    }\n",
       "\n",
       "    .dataframe tbody tr th {\n",
       "        vertical-align: top;\n",
       "    }\n",
       "\n",
       "    .dataframe thead th {\n",
       "        text-align: right;\n",
       "    }\n",
       "</style>\n",
       "<table border=\"1\" class=\"dataframe\">\n",
       "  <thead>\n",
       "    <tr style=\"text-align: right;\">\n",
       "      <th></th>\n",
       "      <th>gene</th>\n",
       "      <th>threshold</th>\n",
       "      <th>sensitivity</th>\n",
       "      <th>fpr</th>\n",
       "      <th>ppv</th>\n",
       "      <th>f_beta</th>\n",
       "      <th>tp</th>\n",
       "      <th>fp</th>\n",
       "      <th>tn</th>\n",
       "      <th>fn</th>\n",
       "      <th>total_samples</th>\n",
       "      <th>passing_calls</th>\n",
       "      <th>passing_proportion</th>\n",
       "    </tr>\n",
       "  </thead>\n",
       "  <tbody>\n",
       "    <tr>\n",
       "      <th>0</th>\n",
       "      <td>IGHV3-64D</td>\n",
       "      <td>0</td>\n",
       "      <td>1.0000</td>\n",
       "      <td>1.0</td>\n",
       "      <td>0.8462</td>\n",
       "      <td>0.8730</td>\n",
       "      <td>11</td>\n",
       "      <td>2</td>\n",
       "      <td>0</td>\n",
       "      <td>0</td>\n",
       "      <td>13</td>\n",
       "      <td>13</td>\n",
       "      <td>1.0000</td>\n",
       "    </tr>\n",
       "    <tr>\n",
       "      <th>1</th>\n",
       "      <td>IGHV3-64D</td>\n",
       "      <td>1</td>\n",
       "      <td>0.2727</td>\n",
       "      <td>0.0</td>\n",
       "      <td>1.0000</td>\n",
       "      <td>0.6522</td>\n",
       "      <td>3</td>\n",
       "      <td>0</td>\n",
       "      <td>2</td>\n",
       "      <td>8</td>\n",
       "      <td>13</td>\n",
       "      <td>3</td>\n",
       "      <td>0.2308</td>\n",
       "    </tr>\n",
       "    <tr>\n",
       "      <th>2</th>\n",
       "      <td>IGHV3-64D</td>\n",
       "      <td>2</td>\n",
       "      <td>0.2727</td>\n",
       "      <td>0.0</td>\n",
       "      <td>1.0000</td>\n",
       "      <td>0.6522</td>\n",
       "      <td>3</td>\n",
       "      <td>0</td>\n",
       "      <td>2</td>\n",
       "      <td>8</td>\n",
       "      <td>13</td>\n",
       "      <td>3</td>\n",
       "      <td>0.2308</td>\n",
       "    </tr>\n",
       "    <tr>\n",
       "      <th>3</th>\n",
       "      <td>IGHV3-64D</td>\n",
       "      <td>3</td>\n",
       "      <td>0.0909</td>\n",
       "      <td>0.0</td>\n",
       "      <td>1.0000</td>\n",
       "      <td>0.3333</td>\n",
       "      <td>1</td>\n",
       "      <td>0</td>\n",
       "      <td>2</td>\n",
       "      <td>10</td>\n",
       "      <td>13</td>\n",
       "      <td>1</td>\n",
       "      <td>0.0769</td>\n",
       "    </tr>\n",
       "    <tr>\n",
       "      <th>4</th>\n",
       "      <td>IGHV3-64D</td>\n",
       "      <td>4</td>\n",
       "      <td>0.0000</td>\n",
       "      <td>0.0</td>\n",
       "      <td>0.0000</td>\n",
       "      <td>0.0000</td>\n",
       "      <td>0</td>\n",
       "      <td>0</td>\n",
       "      <td>2</td>\n",
       "      <td>11</td>\n",
       "      <td>13</td>\n",
       "      <td>0</td>\n",
       "      <td>0.0000</td>\n",
       "    </tr>\n",
       "    <tr>\n",
       "      <th>5</th>\n",
       "      <td>IGHV3-64D</td>\n",
       "      <td>5</td>\n",
       "      <td>0.0000</td>\n",
       "      <td>0.0</td>\n",
       "      <td>0.0000</td>\n",
       "      <td>0.0000</td>\n",
       "      <td>0</td>\n",
       "      <td>0</td>\n",
       "      <td>2</td>\n",
       "      <td>11</td>\n",
       "      <td>13</td>\n",
       "      <td>0</td>\n",
       "      <td>0.0000</td>\n",
       "    </tr>\n",
       "    <tr>\n",
       "      <th>6</th>\n",
       "      <td>IGHV4-38-2</td>\n",
       "      <td>0</td>\n",
       "      <td>1.0000</td>\n",
       "      <td>1.0</td>\n",
       "      <td>0.8857</td>\n",
       "      <td>0.9064</td>\n",
       "      <td>31</td>\n",
       "      <td>4</td>\n",
       "      <td>0</td>\n",
       "      <td>0</td>\n",
       "      <td>35</td>\n",
       "      <td>35</td>\n",
       "      <td>1.0000</td>\n",
       "    </tr>\n",
       "    <tr>\n",
       "      <th>7</th>\n",
       "      <td>IGHV4-38-2</td>\n",
       "      <td>1</td>\n",
       "      <td>0.3548</td>\n",
       "      <td>0.0</td>\n",
       "      <td>1.0000</td>\n",
       "      <td>0.7333</td>\n",
       "      <td>11</td>\n",
       "      <td>0</td>\n",
       "      <td>4</td>\n",
       "      <td>20</td>\n",
       "      <td>35</td>\n",
       "      <td>11</td>\n",
       "      <td>0.3143</td>\n",
       "    </tr>\n",
       "    <tr>\n",
       "      <th>8</th>\n",
       "      <td>IGHV4-38-2</td>\n",
       "      <td>2</td>\n",
       "      <td>0.2581</td>\n",
       "      <td>0.0</td>\n",
       "      <td>1.0000</td>\n",
       "      <td>0.6349</td>\n",
       "      <td>8</td>\n",
       "      <td>0</td>\n",
       "      <td>4</td>\n",
       "      <td>23</td>\n",
       "      <td>35</td>\n",
       "      <td>8</td>\n",
       "      <td>0.2286</td>\n",
       "    </tr>\n",
       "    <tr>\n",
       "      <th>9</th>\n",
       "      <td>IGHV4-38-2</td>\n",
       "      <td>3</td>\n",
       "      <td>0.2258</td>\n",
       "      <td>0.0</td>\n",
       "      <td>1.0000</td>\n",
       "      <td>0.5932</td>\n",
       "      <td>7</td>\n",
       "      <td>0</td>\n",
       "      <td>4</td>\n",
       "      <td>24</td>\n",
       "      <td>35</td>\n",
       "      <td>7</td>\n",
       "      <td>0.2000</td>\n",
       "    </tr>\n",
       "  </tbody>\n",
       "</table>\n",
       "</div>"
      ],
      "text/plain": [
       "         gene  threshold  sensitivity  fpr     ppv  f_beta  tp  fp  tn  fn  \\\n",
       "0   IGHV3-64D          0       1.0000  1.0  0.8462  0.8730  11   2   0   0   \n",
       "1   IGHV3-64D          1       0.2727  0.0  1.0000  0.6522   3   0   2   8   \n",
       "2   IGHV3-64D          2       0.2727  0.0  1.0000  0.6522   3   0   2   8   \n",
       "3   IGHV3-64D          3       0.0909  0.0  1.0000  0.3333   1   0   2  10   \n",
       "4   IGHV3-64D          4       0.0000  0.0  0.0000  0.0000   0   0   2  11   \n",
       "5   IGHV3-64D          5       0.0000  0.0  0.0000  0.0000   0   0   2  11   \n",
       "6  IGHV4-38-2          0       1.0000  1.0  0.8857  0.9064  31   4   0   0   \n",
       "7  IGHV4-38-2          1       0.3548  0.0  1.0000  0.7333  11   0   4  20   \n",
       "8  IGHV4-38-2          2       0.2581  0.0  1.0000  0.6349   8   0   4  23   \n",
       "9  IGHV4-38-2          3       0.2258  0.0  1.0000  0.5932   7   0   4  24   \n",
       "\n",
       "   total_samples  passing_calls  passing_proportion  \n",
       "0             13             13              1.0000  \n",
       "1             13              3              0.2308  \n",
       "2             13              3              0.2308  \n",
       "3             13              1              0.0769  \n",
       "4             13              0              0.0000  \n",
       "5             13              0              0.0000  \n",
       "6             35             35              1.0000  \n",
       "7             35             11              0.3143  \n",
       "8             35              8              0.2286  \n",
       "9             35              7              0.2000  "
      ]
     },
     "metadata": {},
     "output_type": "display_data"
    },
    {
     "data": {
      "text/markdown": [
       "## Finding Optimal Thresholds Based on F-beta Score (beta=0.5)"
      ],
      "text/plain": [
       "<IPython.core.display.Markdown object>"
      ]
     },
     "metadata": {},
     "output_type": "display_data"
    },
    {
     "data": {
      "text/markdown": [
       "* Identified optimal thresholds for 52 genes"
      ],
      "text/plain": [
       "<IPython.core.display.Markdown object>"
      ]
     },
     "metadata": {},
     "output_type": "display_data"
    },
    {
     "data": {
      "text/html": [
       "<div>\n",
       "<style scoped>\n",
       "    .dataframe tbody tr th:only-of-type {\n",
       "        vertical-align: middle;\n",
       "    }\n",
       "\n",
       "    .dataframe tbody tr th {\n",
       "        vertical-align: top;\n",
       "    }\n",
       "\n",
       "    .dataframe thead th {\n",
       "        text-align: right;\n",
       "    }\n",
       "</style>\n",
       "<table border=\"1\" class=\"dataframe\">\n",
       "  <thead>\n",
       "    <tr style=\"text-align: right;\">\n",
       "      <th></th>\n",
       "      <th>gene</th>\n",
       "      <th>optimal_threshold</th>\n",
       "      <th>f_beta</th>\n",
       "      <th>ppv</th>\n",
       "      <th>sensitivity</th>\n",
       "      <th>fpr</th>\n",
       "      <th>passing_proportion</th>\n",
       "    </tr>\n",
       "  </thead>\n",
       "  <tbody>\n",
       "    <tr>\n",
       "      <th>0</th>\n",
       "      <td>IGHV3-64D</td>\n",
       "      <td>2</td>\n",
       "      <td>0.6522</td>\n",
       "      <td>1.0000</td>\n",
       "      <td>0.2727</td>\n",
       "      <td>0.000</td>\n",
       "      <td>0.2308</td>\n",
       "    </tr>\n",
       "    <tr>\n",
       "      <th>1</th>\n",
       "      <td>IGHV4-38-2</td>\n",
       "      <td>1</td>\n",
       "      <td>0.7333</td>\n",
       "      <td>1.0000</td>\n",
       "      <td>0.3548</td>\n",
       "      <td>0.000</td>\n",
       "      <td>0.3143</td>\n",
       "    </tr>\n",
       "    <tr>\n",
       "      <th>2</th>\n",
       "      <td>IGHV3-13</td>\n",
       "      <td>1</td>\n",
       "      <td>0.5455</td>\n",
       "      <td>0.6667</td>\n",
       "      <td>0.3158</td>\n",
       "      <td>0.375</td>\n",
       "      <td>0.3333</td>\n",
       "    </tr>\n",
       "    <tr>\n",
       "      <th>3</th>\n",
       "      <td>IGHV3-21</td>\n",
       "      <td>1</td>\n",
       "      <td>0.5333</td>\n",
       "      <td>0.8889</td>\n",
       "      <td>0.2051</td>\n",
       "      <td>0.250</td>\n",
       "      <td>0.2093</td>\n",
       "    </tr>\n",
       "    <tr>\n",
       "      <th>4</th>\n",
       "      <td>IGHV1-2</td>\n",
       "      <td>1</td>\n",
       "      <td>0.6250</td>\n",
       "      <td>0.9000</td>\n",
       "      <td>0.2812</td>\n",
       "      <td>0.200</td>\n",
       "      <td>0.2703</td>\n",
       "    </tr>\n",
       "  </tbody>\n",
       "</table>\n",
       "</div>"
      ],
      "text/plain": [
       "         gene  optimal_threshold  f_beta     ppv  sensitivity    fpr  \\\n",
       "0   IGHV3-64D                  2  0.6522  1.0000       0.2727  0.000   \n",
       "1  IGHV4-38-2                  1  0.7333  1.0000       0.3548  0.000   \n",
       "2    IGHV3-13                  1  0.5455  0.6667       0.3158  0.375   \n",
       "3    IGHV3-21                  1  0.5333  0.8889       0.2051  0.250   \n",
       "4     IGHV1-2                  1  0.6250  0.9000       0.2812  0.200   \n",
       "\n",
       "   passing_proportion  \n",
       "0              0.2308  \n",
       "1              0.3143  \n",
       "2              0.3333  \n",
       "3              0.2093  \n",
       "4              0.2703  "
      ]
     },
     "metadata": {},
     "output_type": "display_data"
    },
    {
     "data": {
      "text/markdown": [
       "## Gene Type Metrics Summary"
      ],
      "text/plain": [
       "<IPython.core.display.Markdown object>"
      ]
     },
     "metadata": {},
     "output_type": "display_data"
    },
    {
     "data": {
      "text/markdown": [
       "* Number of genes analyzed: 52"
      ],
      "text/plain": [
       "<IPython.core.display.Markdown object>"
      ]
     },
     "metadata": {},
     "output_type": "display_data"
    },
    {
     "data": {
      "text/markdown": [
       "* Mean PPV: 0.8771"
      ],
      "text/plain": [
       "<IPython.core.display.Markdown object>"
      ]
     },
     "metadata": {},
     "output_type": "display_data"
    },
    {
     "data": {
      "text/markdown": [
       "* Median PPV: 0.9310"
      ],
      "text/plain": [
       "<IPython.core.display.Markdown object>"
      ]
     },
     "metadata": {},
     "output_type": "display_data"
    },
    {
     "data": {
      "text/markdown": [
       "* Mean Sensitivity: 0.3637"
      ],
      "text/plain": [
       "<IPython.core.display.Markdown object>"
      ]
     },
     "metadata": {},
     "output_type": "display_data"
    },
    {
     "data": {
      "text/markdown": [
       "* Median Sensitivity: 0.3588"
      ],
      "text/plain": [
       "<IPython.core.display.Markdown object>"
      ]
     },
     "metadata": {},
     "output_type": "display_data"
    },
    {
     "data": {
      "text/markdown": [
       "* Mean F-beta (beta=0.5): 0.6677"
      ],
      "text/plain": [
       "<IPython.core.display.Markdown object>"
      ]
     },
     "metadata": {},
     "output_type": "display_data"
    },
    {
     "data": {
      "text/markdown": [
       "* Median F-beta (beta=0.5): 0.6948"
      ],
      "text/plain": [
       "<IPython.core.display.Markdown object>"
      ]
     },
     "metadata": {},
     "output_type": "display_data"
    },
    {
     "data": {
      "text/markdown": [
       "* Mean passing proportion: 0.3390"
      ],
      "text/plain": [
       "<IPython.core.display.Markdown object>"
      ]
     },
     "metadata": {},
     "output_type": "display_data"
    },
    {
     "data": {
      "text/markdown": [
       "* Median passing proportion: 0.3359"
      ],
      "text/plain": [
       "<IPython.core.display.Markdown object>"
      ]
     },
     "metadata": {},
     "output_type": "display_data"
    },
    {
     "data": {
      "text/markdown": [
       "* Optimal threshold distribution:"
      ],
      "text/plain": [
       "<IPython.core.display.Markdown object>"
      ]
     },
     "metadata": {},
     "output_type": "display_data"
    },
    {
     "data": {
      "text/plain": [
       "1    47\n",
       "2     3\n",
       "3     1\n",
       "5     1\n",
       "dtype: int64"
      ]
     },
     "metadata": {},
     "output_type": "display_data"
    },
    {
     "data": {
      "text/markdown": [
       "## Processing Gene Type: IGLV"
      ],
      "text/plain": [
       "<IPython.core.display.Markdown object>"
      ]
     },
     "metadata": {},
     "output_type": "display_data"
    },
    {
     "data": {
      "text/markdown": [
       "✅ Loaded prefix consistency data for **IGLV**"
      ],
      "text/plain": [
       "<IPython.core.display.Markdown object>"
      ]
     },
     "metadata": {},
     "output_type": "display_data"
    },
    {
     "data": {
      "text/markdown": [
       "* Total rows: 5135"
      ],
      "text/plain": [
       "<IPython.core.display.Markdown object>"
      ]
     },
     "metadata": {},
     "output_type": "display_data"
    },
    {
     "data": {
      "text/markdown": [
       "* Number of samples: 40"
      ],
      "text/plain": [
       "<IPython.core.display.Markdown object>"
      ]
     },
     "metadata": {},
     "output_type": "display_data"
    },
    {
     "data": {
      "text/markdown": [
       "* Number of unique alleles: 173"
      ],
      "text/plain": [
       "<IPython.core.display.Markdown object>"
      ]
     },
     "metadata": {},
     "output_type": "display_data"
    },
    {
     "data": {
      "text/markdown": [
       "* Filtered to 1540 functional alleles"
      ],
      "text/plain": [
       "<IPython.core.display.Markdown object>"
      ]
     },
     "metadata": {},
     "output_type": "display_data"
    },
    {
     "name": "stdout",
     "output_type": "stream",
     "text": [
      "Found 94 potential sample directories in ground truth data.\n",
      "Successfully processed ground truth for 94 samples for IGLV.\n"
     ]
    },
    {
     "data": {
      "text/markdown": [
       "✅ Loaded ground truth data with 3047 entries"
      ],
      "text/plain": [
       "<IPython.core.display.Markdown object>"
      ]
     },
     "metadata": {},
     "output_type": "display_data"
    },
    {
     "data": {
      "text/markdown": [
       "* Found 40 common samples for comparison"
      ],
      "text/plain": [
       "<IPython.core.display.Markdown object>"
      ]
     },
     "metadata": {},
     "output_type": "display_data"
    },
    {
     "data": {
      "text/markdown": [
       "* Identified 1470 True Positives"
      ],
      "text/plain": [
       "<IPython.core.display.Markdown object>"
      ]
     },
     "metadata": {},
     "output_type": "display_data"
    },
    {
     "data": {
      "text/markdown": [
       "* Identified 70 False Positives"
      ],
      "text/plain": [
       "<IPython.core.display.Markdown object>"
      ]
     },
     "metadata": {},
     "output_type": "display_data"
    },
    {
     "data": {
      "text/markdown": [
       "## Calculating Gene-Level Metrics"
      ],
      "text/plain": [
       "<IPython.core.display.Markdown object>"
      ]
     },
     "metadata": {},
     "output_type": "display_data"
    },
    {
     "data": {
      "text/markdown": [
       "* Calculated metrics for 33 genes across 6 thresholds"
      ],
      "text/plain": [
       "<IPython.core.display.Markdown object>"
      ]
     },
     "metadata": {},
     "output_type": "display_data"
    },
    {
     "data": {
      "text/markdown": [
       "### Sample of Calculated Metrics"
      ],
      "text/plain": [
       "<IPython.core.display.Markdown object>"
      ]
     },
     "metadata": {},
     "output_type": "display_data"
    },
    {
     "data": {
      "text/html": [
       "<div>\n",
       "<style scoped>\n",
       "    .dataframe tbody tr th:only-of-type {\n",
       "        vertical-align: middle;\n",
       "    }\n",
       "\n",
       "    .dataframe tbody tr th {\n",
       "        vertical-align: top;\n",
       "    }\n",
       "\n",
       "    .dataframe thead th {\n",
       "        text-align: right;\n",
       "    }\n",
       "</style>\n",
       "<table border=\"1\" class=\"dataframe\">\n",
       "  <thead>\n",
       "    <tr style=\"text-align: right;\">\n",
       "      <th></th>\n",
       "      <th>gene</th>\n",
       "      <th>threshold</th>\n",
       "      <th>sensitivity</th>\n",
       "      <th>fpr</th>\n",
       "      <th>ppv</th>\n",
       "      <th>f_beta</th>\n",
       "      <th>tp</th>\n",
       "      <th>fp</th>\n",
       "      <th>tn</th>\n",
       "      <th>fn</th>\n",
       "      <th>total_samples</th>\n",
       "      <th>passing_calls</th>\n",
       "      <th>passing_proportion</th>\n",
       "    </tr>\n",
       "  </thead>\n",
       "  <tbody>\n",
       "    <tr>\n",
       "      <th>0</th>\n",
       "      <td>IGLV3-12</td>\n",
       "      <td>0</td>\n",
       "      <td>1.0000</td>\n",
       "      <td>1.0000</td>\n",
       "      <td>0.7586</td>\n",
       "      <td>0.7971</td>\n",
       "      <td>22</td>\n",
       "      <td>7</td>\n",
       "      <td>0</td>\n",
       "      <td>0</td>\n",
       "      <td>29</td>\n",
       "      <td>29</td>\n",
       "      <td>1.0000</td>\n",
       "    </tr>\n",
       "    <tr>\n",
       "      <th>1</th>\n",
       "      <td>IGLV3-12</td>\n",
       "      <td>1</td>\n",
       "      <td>1.0000</td>\n",
       "      <td>0.8571</td>\n",
       "      <td>0.7857</td>\n",
       "      <td>0.8209</td>\n",
       "      <td>22</td>\n",
       "      <td>6</td>\n",
       "      <td>1</td>\n",
       "      <td>0</td>\n",
       "      <td>29</td>\n",
       "      <td>28</td>\n",
       "      <td>0.9655</td>\n",
       "    </tr>\n",
       "    <tr>\n",
       "      <th>2</th>\n",
       "      <td>IGLV3-12</td>\n",
       "      <td>2</td>\n",
       "      <td>0.8636</td>\n",
       "      <td>0.8571</td>\n",
       "      <td>0.7600</td>\n",
       "      <td>0.7787</td>\n",
       "      <td>19</td>\n",
       "      <td>6</td>\n",
       "      <td>1</td>\n",
       "      <td>3</td>\n",
       "      <td>29</td>\n",
       "      <td>25</td>\n",
       "      <td>0.8621</td>\n",
       "    </tr>\n",
       "    <tr>\n",
       "      <th>3</th>\n",
       "      <td>IGLV3-12</td>\n",
       "      <td>3</td>\n",
       "      <td>0.7273</td>\n",
       "      <td>0.7143</td>\n",
       "      <td>0.7619</td>\n",
       "      <td>0.7547</td>\n",
       "      <td>16</td>\n",
       "      <td>5</td>\n",
       "      <td>2</td>\n",
       "      <td>6</td>\n",
       "      <td>29</td>\n",
       "      <td>21</td>\n",
       "      <td>0.7241</td>\n",
       "    </tr>\n",
       "    <tr>\n",
       "      <th>4</th>\n",
       "      <td>IGLV3-12</td>\n",
       "      <td>4</td>\n",
       "      <td>0.6364</td>\n",
       "      <td>0.5714</td>\n",
       "      <td>0.7778</td>\n",
       "      <td>0.7447</td>\n",
       "      <td>14</td>\n",
       "      <td>4</td>\n",
       "      <td>3</td>\n",
       "      <td>8</td>\n",
       "      <td>29</td>\n",
       "      <td>18</td>\n",
       "      <td>0.6207</td>\n",
       "    </tr>\n",
       "    <tr>\n",
       "      <th>5</th>\n",
       "      <td>IGLV3-12</td>\n",
       "      <td>5</td>\n",
       "      <td>0.0000</td>\n",
       "      <td>0.0000</td>\n",
       "      <td>0.0000</td>\n",
       "      <td>0.0000</td>\n",
       "      <td>0</td>\n",
       "      <td>0</td>\n",
       "      <td>7</td>\n",
       "      <td>22</td>\n",
       "      <td>29</td>\n",
       "      <td>0</td>\n",
       "      <td>0.0000</td>\n",
       "    </tr>\n",
       "    <tr>\n",
       "      <th>6</th>\n",
       "      <td>IGLV4-69</td>\n",
       "      <td>0</td>\n",
       "      <td>1.0000</td>\n",
       "      <td>1.0000</td>\n",
       "      <td>0.9756</td>\n",
       "      <td>0.9804</td>\n",
       "      <td>40</td>\n",
       "      <td>1</td>\n",
       "      <td>0</td>\n",
       "      <td>0</td>\n",
       "      <td>41</td>\n",
       "      <td>41</td>\n",
       "      <td>1.0000</td>\n",
       "    </tr>\n",
       "    <tr>\n",
       "      <th>7</th>\n",
       "      <td>IGLV4-69</td>\n",
       "      <td>1</td>\n",
       "      <td>1.0000</td>\n",
       "      <td>0.0000</td>\n",
       "      <td>1.0000</td>\n",
       "      <td>1.0000</td>\n",
       "      <td>40</td>\n",
       "      <td>0</td>\n",
       "      <td>1</td>\n",
       "      <td>0</td>\n",
       "      <td>41</td>\n",
       "      <td>40</td>\n",
       "      <td>0.9756</td>\n",
       "    </tr>\n",
       "    <tr>\n",
       "      <th>8</th>\n",
       "      <td>IGLV4-69</td>\n",
       "      <td>2</td>\n",
       "      <td>0.6250</td>\n",
       "      <td>0.0000</td>\n",
       "      <td>1.0000</td>\n",
       "      <td>0.8929</td>\n",
       "      <td>25</td>\n",
       "      <td>0</td>\n",
       "      <td>1</td>\n",
       "      <td>15</td>\n",
       "      <td>41</td>\n",
       "      <td>25</td>\n",
       "      <td>0.6098</td>\n",
       "    </tr>\n",
       "    <tr>\n",
       "      <th>9</th>\n",
       "      <td>IGLV4-69</td>\n",
       "      <td>3</td>\n",
       "      <td>0.3500</td>\n",
       "      <td>0.0000</td>\n",
       "      <td>1.0000</td>\n",
       "      <td>0.7292</td>\n",
       "      <td>14</td>\n",
       "      <td>0</td>\n",
       "      <td>1</td>\n",
       "      <td>26</td>\n",
       "      <td>41</td>\n",
       "      <td>14</td>\n",
       "      <td>0.3415</td>\n",
       "    </tr>\n",
       "  </tbody>\n",
       "</table>\n",
       "</div>"
      ],
      "text/plain": [
       "       gene  threshold  sensitivity     fpr     ppv  f_beta  tp  fp  tn  fn  \\\n",
       "0  IGLV3-12          0       1.0000  1.0000  0.7586  0.7971  22   7   0   0   \n",
       "1  IGLV3-12          1       1.0000  0.8571  0.7857  0.8209  22   6   1   0   \n",
       "2  IGLV3-12          2       0.8636  0.8571  0.7600  0.7787  19   6   1   3   \n",
       "3  IGLV3-12          3       0.7273  0.7143  0.7619  0.7547  16   5   2   6   \n",
       "4  IGLV3-12          4       0.6364  0.5714  0.7778  0.7447  14   4   3   8   \n",
       "5  IGLV3-12          5       0.0000  0.0000  0.0000  0.0000   0   0   7  22   \n",
       "6  IGLV4-69          0       1.0000  1.0000  0.9756  0.9804  40   1   0   0   \n",
       "7  IGLV4-69          1       1.0000  0.0000  1.0000  1.0000  40   0   1   0   \n",
       "8  IGLV4-69          2       0.6250  0.0000  1.0000  0.8929  25   0   1  15   \n",
       "9  IGLV4-69          3       0.3500  0.0000  1.0000  0.7292  14   0   1  26   \n",
       "\n",
       "   total_samples  passing_calls  passing_proportion  \n",
       "0             29             29              1.0000  \n",
       "1             29             28              0.9655  \n",
       "2             29             25              0.8621  \n",
       "3             29             21              0.7241  \n",
       "4             29             18              0.6207  \n",
       "5             29              0              0.0000  \n",
       "6             41             41              1.0000  \n",
       "7             41             40              0.9756  \n",
       "8             41             25              0.6098  \n",
       "9             41             14              0.3415  "
      ]
     },
     "metadata": {},
     "output_type": "display_data"
    },
    {
     "data": {
      "text/markdown": [
       "## Finding Optimal Thresholds Based on F-beta Score (beta=0.5)"
      ],
      "text/plain": [
       "<IPython.core.display.Markdown object>"
      ]
     },
     "metadata": {},
     "output_type": "display_data"
    },
    {
     "data": {
      "text/markdown": [
       "* Identified optimal thresholds for 33 genes"
      ],
      "text/plain": [
       "<IPython.core.display.Markdown object>"
      ]
     },
     "metadata": {},
     "output_type": "display_data"
    },
    {
     "data": {
      "text/html": [
       "<div>\n",
       "<style scoped>\n",
       "    .dataframe tbody tr th:only-of-type {\n",
       "        vertical-align: middle;\n",
       "    }\n",
       "\n",
       "    .dataframe tbody tr th {\n",
       "        vertical-align: top;\n",
       "    }\n",
       "\n",
       "    .dataframe thead th {\n",
       "        text-align: right;\n",
       "    }\n",
       "</style>\n",
       "<table border=\"1\" class=\"dataframe\">\n",
       "  <thead>\n",
       "    <tr style=\"text-align: right;\">\n",
       "      <th></th>\n",
       "      <th>gene</th>\n",
       "      <th>optimal_threshold</th>\n",
       "      <th>f_beta</th>\n",
       "      <th>ppv</th>\n",
       "      <th>sensitivity</th>\n",
       "      <th>fpr</th>\n",
       "      <th>passing_proportion</th>\n",
       "    </tr>\n",
       "  </thead>\n",
       "  <tbody>\n",
       "    <tr>\n",
       "      <th>0</th>\n",
       "      <td>IGLV3-12</td>\n",
       "      <td>1</td>\n",
       "      <td>0.8209</td>\n",
       "      <td>0.7857</td>\n",
       "      <td>1.0000</td>\n",
       "      <td>0.8571</td>\n",
       "      <td>0.9655</td>\n",
       "    </tr>\n",
       "    <tr>\n",
       "      <th>1</th>\n",
       "      <td>IGLV4-69</td>\n",
       "      <td>1</td>\n",
       "      <td>1.0000</td>\n",
       "      <td>1.0000</td>\n",
       "      <td>1.0000</td>\n",
       "      <td>0.0000</td>\n",
       "      <td>0.9756</td>\n",
       "    </tr>\n",
       "    <tr>\n",
       "      <th>2</th>\n",
       "      <td>IGLV7-43</td>\n",
       "      <td>1</td>\n",
       "      <td>1.0000</td>\n",
       "      <td>1.0000</td>\n",
       "      <td>1.0000</td>\n",
       "      <td>0.0000</td>\n",
       "      <td>1.0000</td>\n",
       "    </tr>\n",
       "    <tr>\n",
       "      <th>3</th>\n",
       "      <td>IGLV3-9</td>\n",
       "      <td>1</td>\n",
       "      <td>1.0000</td>\n",
       "      <td>1.0000</td>\n",
       "      <td>1.0000</td>\n",
       "      <td>0.0000</td>\n",
       "      <td>1.0000</td>\n",
       "    </tr>\n",
       "    <tr>\n",
       "      <th>4</th>\n",
       "      <td>IGLV10-54</td>\n",
       "      <td>1</td>\n",
       "      <td>0.9697</td>\n",
       "      <td>0.9846</td>\n",
       "      <td>0.9143</td>\n",
       "      <td>0.3333</td>\n",
       "      <td>0.8904</td>\n",
       "    </tr>\n",
       "  </tbody>\n",
       "</table>\n",
       "</div>"
      ],
      "text/plain": [
       "        gene  optimal_threshold  f_beta     ppv  sensitivity     fpr  \\\n",
       "0   IGLV3-12                  1  0.8209  0.7857       1.0000  0.8571   \n",
       "1   IGLV4-69                  1  1.0000  1.0000       1.0000  0.0000   \n",
       "2   IGLV7-43                  1  1.0000  1.0000       1.0000  0.0000   \n",
       "3    IGLV3-9                  1  1.0000  1.0000       1.0000  0.0000   \n",
       "4  IGLV10-54                  1  0.9697  0.9846       0.9143  0.3333   \n",
       "\n",
       "   passing_proportion  \n",
       "0              0.9655  \n",
       "1              0.9756  \n",
       "2              1.0000  \n",
       "3              1.0000  \n",
       "4              0.8904  "
      ]
     },
     "metadata": {},
     "output_type": "display_data"
    },
    {
     "data": {
      "text/markdown": [
       "## Gene Type Metrics Summary"
      ],
      "text/plain": [
       "<IPython.core.display.Markdown object>"
      ]
     },
     "metadata": {},
     "output_type": "display_data"
    },
    {
     "data": {
      "text/markdown": [
       "* Number of genes analyzed: 33"
      ],
      "text/plain": [
       "<IPython.core.display.Markdown object>"
      ]
     },
     "metadata": {},
     "output_type": "display_data"
    },
    {
     "data": {
      "text/markdown": [
       "* Mean PPV: 0.9633"
      ],
      "text/plain": [
       "<IPython.core.display.Markdown object>"
      ]
     },
     "metadata": {},
     "output_type": "display_data"
    },
    {
     "data": {
      "text/markdown": [
       "* Median PPV: 1.0000"
      ],
      "text/plain": [
       "<IPython.core.display.Markdown object>"
      ]
     },
     "metadata": {},
     "output_type": "display_data"
    },
    {
     "data": {
      "text/markdown": [
       "* Mean Sensitivity: 0.9701"
      ],
      "text/plain": [
       "<IPython.core.display.Markdown object>"
      ]
     },
     "metadata": {},
     "output_type": "display_data"
    },
    {
     "data": {
      "text/markdown": [
       "* Median Sensitivity: 0.9778"
      ],
      "text/plain": [
       "<IPython.core.display.Markdown object>"
      ]
     },
     "metadata": {},
     "output_type": "display_data"
    },
    {
     "data": {
      "text/markdown": [
       "* Mean F-beta (beta=0.5): 0.9635"
      ],
      "text/plain": [
       "<IPython.core.display.Markdown object>"
      ]
     },
     "metadata": {},
     "output_type": "display_data"
    },
    {
     "data": {
      "text/markdown": [
       "* Median F-beta (beta=0.5): 0.9877"
      ],
      "text/plain": [
       "<IPython.core.display.Markdown object>"
      ]
     },
     "metadata": {},
     "output_type": "display_data"
    },
    {
     "data": {
      "text/markdown": [
       "* Mean passing proportion: 0.9621"
      ],
      "text/plain": [
       "<IPython.core.display.Markdown object>"
      ]
     },
     "metadata": {},
     "output_type": "display_data"
    },
    {
     "data": {
      "text/markdown": [
       "* Median passing proportion: 0.9756"
      ],
      "text/plain": [
       "<IPython.core.display.Markdown object>"
      ]
     },
     "metadata": {},
     "output_type": "display_data"
    },
    {
     "data": {
      "text/markdown": [
       "* Optimal threshold distribution:"
      ],
      "text/plain": [
       "<IPython.core.display.Markdown object>"
      ]
     },
     "metadata": {},
     "output_type": "display_data"
    },
    {
     "data": {
      "text/plain": [
       "1    31\n",
       "2     2\n",
       "dtype: int64"
      ]
     },
     "metadata": {},
     "output_type": "display_data"
    },
    {
     "data": {
      "text/markdown": [
       "## Processing Gene Type: IGKV"
      ],
      "text/plain": [
       "<IPython.core.display.Markdown object>"
      ]
     },
     "metadata": {},
     "output_type": "display_data"
    },
    {
     "data": {
      "text/markdown": [
       "✅ Loaded prefix consistency data for **IGKV**"
      ],
      "text/plain": [
       "<IPython.core.display.Markdown object>"
      ]
     },
     "metadata": {},
     "output_type": "display_data"
    },
    {
     "data": {
      "text/markdown": [
       "* Total rows: 5009"
      ],
      "text/plain": [
       "<IPython.core.display.Markdown object>"
      ]
     },
     "metadata": {},
     "output_type": "display_data"
    },
    {
     "data": {
      "text/markdown": [
       "* Number of samples: 40"
      ],
      "text/plain": [
       "<IPython.core.display.Markdown object>"
      ]
     },
     "metadata": {},
     "output_type": "display_data"
    },
    {
     "data": {
      "text/markdown": [
       "* Number of unique alleles: 154"
      ],
      "text/plain": [
       "<IPython.core.display.Markdown object>"
      ]
     },
     "metadata": {},
     "output_type": "display_data"
    },
    {
     "data": {
      "text/markdown": [
       "* Filtered to 1621 functional alleles"
      ],
      "text/plain": [
       "<IPython.core.display.Markdown object>"
      ]
     },
     "metadata": {},
     "output_type": "display_data"
    },
    {
     "name": "stdout",
     "output_type": "stream",
     "text": [
      "Found 94 potential sample directories in ground truth data.\n",
      "Successfully processed ground truth for 94 samples for IGKV.\n"
     ]
    },
    {
     "data": {
      "text/markdown": [
       "✅ Loaded ground truth data with 3043 entries"
      ],
      "text/plain": [
       "<IPython.core.display.Markdown object>"
      ]
     },
     "metadata": {},
     "output_type": "display_data"
    },
    {
     "data": {
      "text/markdown": [
       "* Found 40 common samples for comparison"
      ],
      "text/plain": [
       "<IPython.core.display.Markdown object>"
      ]
     },
     "metadata": {},
     "output_type": "display_data"
    },
    {
     "data": {
      "text/markdown": [
       "* Identified 1305 True Positives"
      ],
      "text/plain": [
       "<IPython.core.display.Markdown object>"
      ]
     },
     "metadata": {},
     "output_type": "display_data"
    },
    {
     "data": {
      "text/markdown": [
       "* Identified 316 False Positives"
      ],
      "text/plain": [
       "<IPython.core.display.Markdown object>"
      ]
     },
     "metadata": {},
     "output_type": "display_data"
    },
    {
     "data": {
      "text/markdown": [
       "## Calculating Gene-Level Metrics"
      ],
      "text/plain": [
       "<IPython.core.display.Markdown object>"
      ]
     },
     "metadata": {},
     "output_type": "display_data"
    },
    {
     "data": {
      "text/markdown": [
       "* Calculated metrics for 37 genes across 6 thresholds"
      ],
      "text/plain": [
       "<IPython.core.display.Markdown object>"
      ]
     },
     "metadata": {},
     "output_type": "display_data"
    },
    {
     "data": {
      "text/markdown": [
       "### Sample of Calculated Metrics"
      ],
      "text/plain": [
       "<IPython.core.display.Markdown object>"
      ]
     },
     "metadata": {},
     "output_type": "display_data"
    },
    {
     "data": {
      "text/html": [
       "<div>\n",
       "<style scoped>\n",
       "    .dataframe tbody tr th:only-of-type {\n",
       "        vertical-align: middle;\n",
       "    }\n",
       "\n",
       "    .dataframe tbody tr th {\n",
       "        vertical-align: top;\n",
       "    }\n",
       "\n",
       "    .dataframe thead th {\n",
       "        text-align: right;\n",
       "    }\n",
       "</style>\n",
       "<table border=\"1\" class=\"dataframe\">\n",
       "  <thead>\n",
       "    <tr style=\"text-align: right;\">\n",
       "      <th></th>\n",
       "      <th>gene</th>\n",
       "      <th>threshold</th>\n",
       "      <th>sensitivity</th>\n",
       "      <th>fpr</th>\n",
       "      <th>ppv</th>\n",
       "      <th>f_beta</th>\n",
       "      <th>tp</th>\n",
       "      <th>fp</th>\n",
       "      <th>tn</th>\n",
       "      <th>fn</th>\n",
       "      <th>total_samples</th>\n",
       "      <th>passing_calls</th>\n",
       "      <th>passing_proportion</th>\n",
       "    </tr>\n",
       "  </thead>\n",
       "  <tbody>\n",
       "    <tr>\n",
       "      <th>0</th>\n",
       "      <td>IGKV6D-21</td>\n",
       "      <td>0</td>\n",
       "      <td>1.0000</td>\n",
       "      <td>0.0000</td>\n",
       "      <td>1.0000</td>\n",
       "      <td>1.0000</td>\n",
       "      <td>40</td>\n",
       "      <td>0</td>\n",
       "      <td>0</td>\n",
       "      <td>0</td>\n",
       "      <td>40</td>\n",
       "      <td>40</td>\n",
       "      <td>1.000</td>\n",
       "    </tr>\n",
       "    <tr>\n",
       "      <th>1</th>\n",
       "      <td>IGKV6D-21</td>\n",
       "      <td>1</td>\n",
       "      <td>0.8000</td>\n",
       "      <td>0.0000</td>\n",
       "      <td>1.0000</td>\n",
       "      <td>0.9524</td>\n",
       "      <td>32</td>\n",
       "      <td>0</td>\n",
       "      <td>0</td>\n",
       "      <td>8</td>\n",
       "      <td>40</td>\n",
       "      <td>32</td>\n",
       "      <td>0.800</td>\n",
       "    </tr>\n",
       "    <tr>\n",
       "      <th>2</th>\n",
       "      <td>IGKV6D-21</td>\n",
       "      <td>2</td>\n",
       "      <td>0.4000</td>\n",
       "      <td>0.0000</td>\n",
       "      <td>1.0000</td>\n",
       "      <td>0.7692</td>\n",
       "      <td>16</td>\n",
       "      <td>0</td>\n",
       "      <td>0</td>\n",
       "      <td>24</td>\n",
       "      <td>40</td>\n",
       "      <td>16</td>\n",
       "      <td>0.400</td>\n",
       "    </tr>\n",
       "    <tr>\n",
       "      <th>3</th>\n",
       "      <td>IGKV6D-21</td>\n",
       "      <td>3</td>\n",
       "      <td>0.2250</td>\n",
       "      <td>0.0000</td>\n",
       "      <td>1.0000</td>\n",
       "      <td>0.5921</td>\n",
       "      <td>9</td>\n",
       "      <td>0</td>\n",
       "      <td>0</td>\n",
       "      <td>31</td>\n",
       "      <td>40</td>\n",
       "      <td>9</td>\n",
       "      <td>0.225</td>\n",
       "    </tr>\n",
       "    <tr>\n",
       "      <th>4</th>\n",
       "      <td>IGKV6D-21</td>\n",
       "      <td>4</td>\n",
       "      <td>0.1500</td>\n",
       "      <td>0.0000</td>\n",
       "      <td>1.0000</td>\n",
       "      <td>0.4688</td>\n",
       "      <td>6</td>\n",
       "      <td>0</td>\n",
       "      <td>0</td>\n",
       "      <td>34</td>\n",
       "      <td>40</td>\n",
       "      <td>6</td>\n",
       "      <td>0.150</td>\n",
       "    </tr>\n",
       "    <tr>\n",
       "      <th>5</th>\n",
       "      <td>IGKV6D-21</td>\n",
       "      <td>5</td>\n",
       "      <td>0.0000</td>\n",
       "      <td>0.0000</td>\n",
       "      <td>0.0000</td>\n",
       "      <td>0.0000</td>\n",
       "      <td>0</td>\n",
       "      <td>0</td>\n",
       "      <td>0</td>\n",
       "      <td>40</td>\n",
       "      <td>40</td>\n",
       "      <td>0</td>\n",
       "      <td>0.000</td>\n",
       "    </tr>\n",
       "    <tr>\n",
       "      <th>6</th>\n",
       "      <td>IGKV1-27</td>\n",
       "      <td>0</td>\n",
       "      <td>1.0000</td>\n",
       "      <td>1.0000</td>\n",
       "      <td>0.6133</td>\n",
       "      <td>0.6647</td>\n",
       "      <td>46</td>\n",
       "      <td>29</td>\n",
       "      <td>0</td>\n",
       "      <td>0</td>\n",
       "      <td>75</td>\n",
       "      <td>75</td>\n",
       "      <td>1.000</td>\n",
       "    </tr>\n",
       "    <tr>\n",
       "      <th>7</th>\n",
       "      <td>IGKV1-27</td>\n",
       "      <td>1</td>\n",
       "      <td>0.7609</td>\n",
       "      <td>0.6552</td>\n",
       "      <td>0.6481</td>\n",
       "      <td>0.6679</td>\n",
       "      <td>35</td>\n",
       "      <td>19</td>\n",
       "      <td>10</td>\n",
       "      <td>11</td>\n",
       "      <td>75</td>\n",
       "      <td>54</td>\n",
       "      <td>0.720</td>\n",
       "    </tr>\n",
       "    <tr>\n",
       "      <th>8</th>\n",
       "      <td>IGKV1-27</td>\n",
       "      <td>2</td>\n",
       "      <td>0.3696</td>\n",
       "      <td>0.4483</td>\n",
       "      <td>0.5667</td>\n",
       "      <td>0.5120</td>\n",
       "      <td>17</td>\n",
       "      <td>13</td>\n",
       "      <td>16</td>\n",
       "      <td>29</td>\n",
       "      <td>75</td>\n",
       "      <td>30</td>\n",
       "      <td>0.400</td>\n",
       "    </tr>\n",
       "    <tr>\n",
       "      <th>9</th>\n",
       "      <td>IGKV1-27</td>\n",
       "      <td>3</td>\n",
       "      <td>0.2609</td>\n",
       "      <td>0.3103</td>\n",
       "      <td>0.5714</td>\n",
       "      <td>0.4615</td>\n",
       "      <td>12</td>\n",
       "      <td>9</td>\n",
       "      <td>20</td>\n",
       "      <td>34</td>\n",
       "      <td>75</td>\n",
       "      <td>21</td>\n",
       "      <td>0.280</td>\n",
       "    </tr>\n",
       "  </tbody>\n",
       "</table>\n",
       "</div>"
      ],
      "text/plain": [
       "        gene  threshold  sensitivity     fpr     ppv  f_beta  tp  fp  tn  fn  \\\n",
       "0  IGKV6D-21          0       1.0000  0.0000  1.0000  1.0000  40   0   0   0   \n",
       "1  IGKV6D-21          1       0.8000  0.0000  1.0000  0.9524  32   0   0   8   \n",
       "2  IGKV6D-21          2       0.4000  0.0000  1.0000  0.7692  16   0   0  24   \n",
       "3  IGKV6D-21          3       0.2250  0.0000  1.0000  0.5921   9   0   0  31   \n",
       "4  IGKV6D-21          4       0.1500  0.0000  1.0000  0.4688   6   0   0  34   \n",
       "5  IGKV6D-21          5       0.0000  0.0000  0.0000  0.0000   0   0   0  40   \n",
       "6   IGKV1-27          0       1.0000  1.0000  0.6133  0.6647  46  29   0   0   \n",
       "7   IGKV1-27          1       0.7609  0.6552  0.6481  0.6679  35  19  10  11   \n",
       "8   IGKV1-27          2       0.3696  0.4483  0.5667  0.5120  17  13  16  29   \n",
       "9   IGKV1-27          3       0.2609  0.3103  0.5714  0.4615  12   9  20  34   \n",
       "\n",
       "   total_samples  passing_calls  passing_proportion  \n",
       "0             40             40               1.000  \n",
       "1             40             32               0.800  \n",
       "2             40             16               0.400  \n",
       "3             40              9               0.225  \n",
       "4             40              6               0.150  \n",
       "5             40              0               0.000  \n",
       "6             75             75               1.000  \n",
       "7             75             54               0.720  \n",
       "8             75             30               0.400  \n",
       "9             75             21               0.280  "
      ]
     },
     "metadata": {},
     "output_type": "display_data"
    },
    {
     "data": {
      "text/markdown": [
       "## Finding Optimal Thresholds Based on F-beta Score (beta=0.5)"
      ],
      "text/plain": [
       "<IPython.core.display.Markdown object>"
      ]
     },
     "metadata": {},
     "output_type": "display_data"
    },
    {
     "data": {
      "text/markdown": [
       "* Identified optimal thresholds for 37 genes"
      ],
      "text/plain": [
       "<IPython.core.display.Markdown object>"
      ]
     },
     "metadata": {},
     "output_type": "display_data"
    },
    {
     "data": {
      "text/html": [
       "<div>\n",
       "<style scoped>\n",
       "    .dataframe tbody tr th:only-of-type {\n",
       "        vertical-align: middle;\n",
       "    }\n",
       "\n",
       "    .dataframe tbody tr th {\n",
       "        vertical-align: top;\n",
       "    }\n",
       "\n",
       "    .dataframe thead th {\n",
       "        text-align: right;\n",
       "    }\n",
       "</style>\n",
       "<table border=\"1\" class=\"dataframe\">\n",
       "  <thead>\n",
       "    <tr style=\"text-align: right;\">\n",
       "      <th></th>\n",
       "      <th>gene</th>\n",
       "      <th>optimal_threshold</th>\n",
       "      <th>f_beta</th>\n",
       "      <th>ppv</th>\n",
       "      <th>sensitivity</th>\n",
       "      <th>fpr</th>\n",
       "      <th>passing_proportion</th>\n",
       "    </tr>\n",
       "  </thead>\n",
       "  <tbody>\n",
       "    <tr>\n",
       "      <th>0</th>\n",
       "      <td>IGKV6D-21</td>\n",
       "      <td>1</td>\n",
       "      <td>0.9524</td>\n",
       "      <td>1.0000</td>\n",
       "      <td>0.8000</td>\n",
       "      <td>0.0000</td>\n",
       "      <td>0.8000</td>\n",
       "    </tr>\n",
       "    <tr>\n",
       "      <th>1</th>\n",
       "      <td>IGKV1-27</td>\n",
       "      <td>1</td>\n",
       "      <td>0.6679</td>\n",
       "      <td>0.6481</td>\n",
       "      <td>0.7609</td>\n",
       "      <td>0.6552</td>\n",
       "      <td>0.7200</td>\n",
       "    </tr>\n",
       "    <tr>\n",
       "      <th>2</th>\n",
       "      <td>IGKV1D-13</td>\n",
       "      <td>5</td>\n",
       "      <td>0.0000</td>\n",
       "      <td>0.0000</td>\n",
       "      <td>0.0000</td>\n",
       "      <td>0.0000</td>\n",
       "      <td>0.0000</td>\n",
       "    </tr>\n",
       "    <tr>\n",
       "      <th>3</th>\n",
       "      <td>IGKV3D-15</td>\n",
       "      <td>1</td>\n",
       "      <td>0.8768</td>\n",
       "      <td>0.9024</td>\n",
       "      <td>0.7872</td>\n",
       "      <td>0.8000</td>\n",
       "      <td>0.7885</td>\n",
       "    </tr>\n",
       "    <tr>\n",
       "      <th>4</th>\n",
       "      <td>IGKV3D-20</td>\n",
       "      <td>1</td>\n",
       "      <td>0.9593</td>\n",
       "      <td>1.0000</td>\n",
       "      <td>0.8250</td>\n",
       "      <td>0.0000</td>\n",
       "      <td>0.8250</td>\n",
       "    </tr>\n",
       "  </tbody>\n",
       "</table>\n",
       "</div>"
      ],
      "text/plain": [
       "        gene  optimal_threshold  f_beta     ppv  sensitivity     fpr  \\\n",
       "0  IGKV6D-21                  1  0.9524  1.0000       0.8000  0.0000   \n",
       "1   IGKV1-27                  1  0.6679  0.6481       0.7609  0.6552   \n",
       "2  IGKV1D-13                  5  0.0000  0.0000       0.0000  0.0000   \n",
       "3  IGKV3D-15                  1  0.8768  0.9024       0.7872  0.8000   \n",
       "4  IGKV3D-20                  1  0.9593  1.0000       0.8250  0.0000   \n",
       "\n",
       "   passing_proportion  \n",
       "0              0.8000  \n",
       "1              0.7200  \n",
       "2              0.0000  \n",
       "3              0.7885  \n",
       "4              0.8250  "
      ]
     },
     "metadata": {},
     "output_type": "display_data"
    },
    {
     "data": {
      "text/markdown": [
       "## Gene Type Metrics Summary"
      ],
      "text/plain": [
       "<IPython.core.display.Markdown object>"
      ]
     },
     "metadata": {},
     "output_type": "display_data"
    },
    {
     "data": {
      "text/markdown": [
       "* Number of genes analyzed: 37"
      ],
      "text/plain": [
       "<IPython.core.display.Markdown object>"
      ]
     },
     "metadata": {},
     "output_type": "display_data"
    },
    {
     "data": {
      "text/markdown": [
       "* Mean PPV: 0.8203"
      ],
      "text/plain": [
       "<IPython.core.display.Markdown object>"
      ]
     },
     "metadata": {},
     "output_type": "display_data"
    },
    {
     "data": {
      "text/markdown": [
       "* Median PPV: 0.8966"
      ],
      "text/plain": [
       "<IPython.core.display.Markdown object>"
      ]
     },
     "metadata": {},
     "output_type": "display_data"
    },
    {
     "data": {
      "text/markdown": [
       "* Mean Sensitivity: 0.7196"
      ],
      "text/plain": [
       "<IPython.core.display.Markdown object>"
      ]
     },
     "metadata": {},
     "output_type": "display_data"
    },
    {
     "data": {
      "text/markdown": [
       "* Median Sensitivity: 0.8043"
      ],
      "text/plain": [
       "<IPython.core.display.Markdown object>"
      ]
     },
     "metadata": {},
     "output_type": "display_data"
    },
    {
     "data": {
      "text/markdown": [
       "* Mean F-beta (beta=0.5): 0.7943"
      ],
      "text/plain": [
       "<IPython.core.display.Markdown object>"
      ]
     },
     "metadata": {},
     "output_type": "display_data"
    },
    {
     "data": {
      "text/markdown": [
       "* Median F-beta (beta=0.5): 0.8599"
      ],
      "text/plain": [
       "<IPython.core.display.Markdown object>"
      ]
     },
     "metadata": {},
     "output_type": "display_data"
    },
    {
     "data": {
      "text/markdown": [
       "* Mean passing proportion: 0.6982"
      ],
      "text/plain": [
       "<IPython.core.display.Markdown object>"
      ]
     },
     "metadata": {},
     "output_type": "display_data"
    },
    {
     "data": {
      "text/markdown": [
       "* Median passing proportion: 0.7692"
      ],
      "text/plain": [
       "<IPython.core.display.Markdown object>"
      ]
     },
     "metadata": {},
     "output_type": "display_data"
    },
    {
     "data": {
      "text/markdown": [
       "* Optimal threshold distribution:"
      ],
      "text/plain": [
       "<IPython.core.display.Markdown object>"
      ]
     },
     "metadata": {},
     "output_type": "display_data"
    },
    {
     "data": {
      "text/plain": [
       "1    32\n",
       "2     2\n",
       "4     1\n",
       "5     2\n",
       "dtype: int64"
      ]
     },
     "metadata": {},
     "output_type": "display_data"
    },
    {
     "data": {
      "text/markdown": [
       "## Processing Gene Type: TRAV"
      ],
      "text/plain": [
       "<IPython.core.display.Markdown object>"
      ]
     },
     "metadata": {},
     "output_type": "display_data"
    },
    {
     "data": {
      "text/markdown": [
       "✅ Loaded prefix consistency data for **TRAV**"
      ],
      "text/plain": [
       "<IPython.core.display.Markdown object>"
      ]
     },
     "metadata": {},
     "output_type": "display_data"
    },
    {
     "data": {
      "text/markdown": [
       "* Total rows: 3655"
      ],
      "text/plain": [
       "<IPython.core.display.Markdown object>"
      ]
     },
     "metadata": {},
     "output_type": "display_data"
    },
    {
     "data": {
      "text/markdown": [
       "* Number of samples: 40"
      ],
      "text/plain": [
       "<IPython.core.display.Markdown object>"
      ]
     },
     "metadata": {},
     "output_type": "display_data"
    },
    {
     "data": {
      "text/markdown": [
       "* Number of unique alleles: 132"
      ],
      "text/plain": [
       "<IPython.core.display.Markdown object>"
      ]
     },
     "metadata": {},
     "output_type": "display_data"
    },
    {
     "data": {
      "text/markdown": [
       "* Filtered to 2268 functional alleles"
      ],
      "text/plain": [
       "<IPython.core.display.Markdown object>"
      ]
     },
     "metadata": {},
     "output_type": "display_data"
    },
    {
     "name": "stdout",
     "output_type": "stream",
     "text": [
      "Found 94 potential sample directories in ground truth data.\n",
      "Successfully processed ground truth for 94 samples for TRAV.\n"
     ]
    },
    {
     "data": {
      "text/markdown": [
       "✅ Loaded ground truth data with 4007 entries"
      ],
      "text/plain": [
       "<IPython.core.display.Markdown object>"
      ]
     },
     "metadata": {},
     "output_type": "display_data"
    },
    {
     "data": {
      "text/markdown": [
       "* Found 40 common samples for comparison"
      ],
      "text/plain": [
       "<IPython.core.display.Markdown object>"
      ]
     },
     "metadata": {},
     "output_type": "display_data"
    },
    {
     "data": {
      "text/markdown": [
       "* Identified 1783 True Positives"
      ],
      "text/plain": [
       "<IPython.core.display.Markdown object>"
      ]
     },
     "metadata": {},
     "output_type": "display_data"
    },
    {
     "data": {
      "text/markdown": [
       "* Identified 485 False Positives"
      ],
      "text/plain": [
       "<IPython.core.display.Markdown object>"
      ]
     },
     "metadata": {},
     "output_type": "display_data"
    },
    {
     "data": {
      "text/markdown": [
       "## Calculating Gene-Level Metrics"
      ],
      "text/plain": [
       "<IPython.core.display.Markdown object>"
      ]
     },
     "metadata": {},
     "output_type": "display_data"
    },
    {
     "data": {
      "text/markdown": [
       "* Calculated metrics for 45 genes across 6 thresholds"
      ],
      "text/plain": [
       "<IPython.core.display.Markdown object>"
      ]
     },
     "metadata": {},
     "output_type": "display_data"
    },
    {
     "data": {
      "text/markdown": [
       "### Sample of Calculated Metrics"
      ],
      "text/plain": [
       "<IPython.core.display.Markdown object>"
      ]
     },
     "metadata": {},
     "output_type": "display_data"
    },
    {
     "data": {
      "text/html": [
       "<div>\n",
       "<style scoped>\n",
       "    .dataframe tbody tr th:only-of-type {\n",
       "        vertical-align: middle;\n",
       "    }\n",
       "\n",
       "    .dataframe tbody tr th {\n",
       "        vertical-align: top;\n",
       "    }\n",
       "\n",
       "    .dataframe thead th {\n",
       "        text-align: right;\n",
       "    }\n",
       "</style>\n",
       "<table border=\"1\" class=\"dataframe\">\n",
       "  <thead>\n",
       "    <tr style=\"text-align: right;\">\n",
       "      <th></th>\n",
       "      <th>gene</th>\n",
       "      <th>threshold</th>\n",
       "      <th>sensitivity</th>\n",
       "      <th>fpr</th>\n",
       "      <th>ppv</th>\n",
       "      <th>f_beta</th>\n",
       "      <th>tp</th>\n",
       "      <th>fp</th>\n",
       "      <th>tn</th>\n",
       "      <th>fn</th>\n",
       "      <th>total_samples</th>\n",
       "      <th>passing_calls</th>\n",
       "      <th>passing_proportion</th>\n",
       "    </tr>\n",
       "  </thead>\n",
       "  <tbody>\n",
       "    <tr>\n",
       "      <th>0</th>\n",
       "      <td>TRAV8-2</td>\n",
       "      <td>0</td>\n",
       "      <td>1.0000</td>\n",
       "      <td>0.000</td>\n",
       "      <td>1.0</td>\n",
       "      <td>1.0000</td>\n",
       "      <td>52</td>\n",
       "      <td>0</td>\n",
       "      <td>0</td>\n",
       "      <td>0</td>\n",
       "      <td>52</td>\n",
       "      <td>52</td>\n",
       "      <td>1.0000</td>\n",
       "    </tr>\n",
       "    <tr>\n",
       "      <th>1</th>\n",
       "      <td>TRAV8-2</td>\n",
       "      <td>1</td>\n",
       "      <td>0.9615</td>\n",
       "      <td>0.000</td>\n",
       "      <td>1.0</td>\n",
       "      <td>0.9921</td>\n",
       "      <td>50</td>\n",
       "      <td>0</td>\n",
       "      <td>0</td>\n",
       "      <td>2</td>\n",
       "      <td>52</td>\n",
       "      <td>50</td>\n",
       "      <td>0.9615</td>\n",
       "    </tr>\n",
       "    <tr>\n",
       "      <th>2</th>\n",
       "      <td>TRAV8-2</td>\n",
       "      <td>2</td>\n",
       "      <td>0.5962</td>\n",
       "      <td>0.000</td>\n",
       "      <td>1.0</td>\n",
       "      <td>0.8807</td>\n",
       "      <td>31</td>\n",
       "      <td>0</td>\n",
       "      <td>0</td>\n",
       "      <td>21</td>\n",
       "      <td>52</td>\n",
       "      <td>31</td>\n",
       "      <td>0.5962</td>\n",
       "    </tr>\n",
       "    <tr>\n",
       "      <th>3</th>\n",
       "      <td>TRAV8-2</td>\n",
       "      <td>3</td>\n",
       "      <td>0.4038</td>\n",
       "      <td>0.000</td>\n",
       "      <td>1.0</td>\n",
       "      <td>0.7721</td>\n",
       "      <td>21</td>\n",
       "      <td>0</td>\n",
       "      <td>0</td>\n",
       "      <td>31</td>\n",
       "      <td>52</td>\n",
       "      <td>21</td>\n",
       "      <td>0.4038</td>\n",
       "    </tr>\n",
       "    <tr>\n",
       "      <th>4</th>\n",
       "      <td>TRAV8-2</td>\n",
       "      <td>4</td>\n",
       "      <td>0.2308</td>\n",
       "      <td>0.000</td>\n",
       "      <td>1.0</td>\n",
       "      <td>0.6000</td>\n",
       "      <td>12</td>\n",
       "      <td>0</td>\n",
       "      <td>0</td>\n",
       "      <td>40</td>\n",
       "      <td>52</td>\n",
       "      <td>12</td>\n",
       "      <td>0.2308</td>\n",
       "    </tr>\n",
       "    <tr>\n",
       "      <th>5</th>\n",
       "      <td>TRAV8-2</td>\n",
       "      <td>5</td>\n",
       "      <td>0.0000</td>\n",
       "      <td>0.000</td>\n",
       "      <td>0.0</td>\n",
       "      <td>0.0000</td>\n",
       "      <td>0</td>\n",
       "      <td>0</td>\n",
       "      <td>0</td>\n",
       "      <td>52</td>\n",
       "      <td>52</td>\n",
       "      <td>0</td>\n",
       "      <td>0.0000</td>\n",
       "    </tr>\n",
       "    <tr>\n",
       "      <th>6</th>\n",
       "      <td>TRAV4</td>\n",
       "      <td>0</td>\n",
       "      <td>0.0000</td>\n",
       "      <td>1.000</td>\n",
       "      <td>0.0</td>\n",
       "      <td>0.0000</td>\n",
       "      <td>0</td>\n",
       "      <td>40</td>\n",
       "      <td>0</td>\n",
       "      <td>0</td>\n",
       "      <td>40</td>\n",
       "      <td>40</td>\n",
       "      <td>1.0000</td>\n",
       "    </tr>\n",
       "    <tr>\n",
       "      <th>7</th>\n",
       "      <td>TRAV4</td>\n",
       "      <td>1</td>\n",
       "      <td>0.0000</td>\n",
       "      <td>1.000</td>\n",
       "      <td>0.0</td>\n",
       "      <td>0.0000</td>\n",
       "      <td>0</td>\n",
       "      <td>40</td>\n",
       "      <td>0</td>\n",
       "      <td>0</td>\n",
       "      <td>40</td>\n",
       "      <td>40</td>\n",
       "      <td>1.0000</td>\n",
       "    </tr>\n",
       "    <tr>\n",
       "      <th>8</th>\n",
       "      <td>TRAV4</td>\n",
       "      <td>2</td>\n",
       "      <td>0.0000</td>\n",
       "      <td>0.925</td>\n",
       "      <td>0.0</td>\n",
       "      <td>0.0000</td>\n",
       "      <td>0</td>\n",
       "      <td>37</td>\n",
       "      <td>3</td>\n",
       "      <td>0</td>\n",
       "      <td>40</td>\n",
       "      <td>37</td>\n",
       "      <td>0.9250</td>\n",
       "    </tr>\n",
       "    <tr>\n",
       "      <th>9</th>\n",
       "      <td>TRAV4</td>\n",
       "      <td>3</td>\n",
       "      <td>0.0000</td>\n",
       "      <td>0.900</td>\n",
       "      <td>0.0</td>\n",
       "      <td>0.0000</td>\n",
       "      <td>0</td>\n",
       "      <td>36</td>\n",
       "      <td>4</td>\n",
       "      <td>0</td>\n",
       "      <td>40</td>\n",
       "      <td>36</td>\n",
       "      <td>0.9000</td>\n",
       "    </tr>\n",
       "  </tbody>\n",
       "</table>\n",
       "</div>"
      ],
      "text/plain": [
       "      gene  threshold  sensitivity    fpr  ppv  f_beta  tp  fp  tn  fn  \\\n",
       "0  TRAV8-2          0       1.0000  0.000  1.0  1.0000  52   0   0   0   \n",
       "1  TRAV8-2          1       0.9615  0.000  1.0  0.9921  50   0   0   2   \n",
       "2  TRAV8-2          2       0.5962  0.000  1.0  0.8807  31   0   0  21   \n",
       "3  TRAV8-2          3       0.4038  0.000  1.0  0.7721  21   0   0  31   \n",
       "4  TRAV8-2          4       0.2308  0.000  1.0  0.6000  12   0   0  40   \n",
       "5  TRAV8-2          5       0.0000  0.000  0.0  0.0000   0   0   0  52   \n",
       "6    TRAV4          0       0.0000  1.000  0.0  0.0000   0  40   0   0   \n",
       "7    TRAV4          1       0.0000  1.000  0.0  0.0000   0  40   0   0   \n",
       "8    TRAV4          2       0.0000  0.925  0.0  0.0000   0  37   3   0   \n",
       "9    TRAV4          3       0.0000  0.900  0.0  0.0000   0  36   4   0   \n",
       "\n",
       "   total_samples  passing_calls  passing_proportion  \n",
       "0             52             52              1.0000  \n",
       "1             52             50              0.9615  \n",
       "2             52             31              0.5962  \n",
       "3             52             21              0.4038  \n",
       "4             52             12              0.2308  \n",
       "5             52              0              0.0000  \n",
       "6             40             40              1.0000  \n",
       "7             40             40              1.0000  \n",
       "8             40             37              0.9250  \n",
       "9             40             36              0.9000  "
      ]
     },
     "metadata": {},
     "output_type": "display_data"
    },
    {
     "data": {
      "text/markdown": [
       "## Finding Optimal Thresholds Based on F-beta Score (beta=0.5)"
      ],
      "text/plain": [
       "<IPython.core.display.Markdown object>"
      ]
     },
     "metadata": {},
     "output_type": "display_data"
    },
    {
     "data": {
      "text/markdown": [
       "* Identified optimal thresholds for 45 genes"
      ],
      "text/plain": [
       "<IPython.core.display.Markdown object>"
      ]
     },
     "metadata": {},
     "output_type": "display_data"
    },
    {
     "data": {
      "text/html": [
       "<div>\n",
       "<style scoped>\n",
       "    .dataframe tbody tr th:only-of-type {\n",
       "        vertical-align: middle;\n",
       "    }\n",
       "\n",
       "    .dataframe tbody tr th {\n",
       "        vertical-align: top;\n",
       "    }\n",
       "\n",
       "    .dataframe thead th {\n",
       "        text-align: right;\n",
       "    }\n",
       "</style>\n",
       "<table border=\"1\" class=\"dataframe\">\n",
       "  <thead>\n",
       "    <tr style=\"text-align: right;\">\n",
       "      <th></th>\n",
       "      <th>gene</th>\n",
       "      <th>optimal_threshold</th>\n",
       "      <th>f_beta</th>\n",
       "      <th>ppv</th>\n",
       "      <th>sensitivity</th>\n",
       "      <th>fpr</th>\n",
       "      <th>passing_proportion</th>\n",
       "    </tr>\n",
       "  </thead>\n",
       "  <tbody>\n",
       "    <tr>\n",
       "      <th>0</th>\n",
       "      <td>TRAV8-2</td>\n",
       "      <td>1</td>\n",
       "      <td>0.9921</td>\n",
       "      <td>1.0000</td>\n",
       "      <td>0.9615</td>\n",
       "      <td>0.0000</td>\n",
       "      <td>0.9615</td>\n",
       "    </tr>\n",
       "    <tr>\n",
       "      <th>1</th>\n",
       "      <td>TRAV4</td>\n",
       "      <td>5</td>\n",
       "      <td>0.0000</td>\n",
       "      <td>0.0000</td>\n",
       "      <td>0.0000</td>\n",
       "      <td>0.0000</td>\n",
       "      <td>0.0000</td>\n",
       "    </tr>\n",
       "    <tr>\n",
       "      <th>2</th>\n",
       "      <td>TRAV8-4</td>\n",
       "      <td>1</td>\n",
       "      <td>0.5837</td>\n",
       "      <td>0.5455</td>\n",
       "      <td>0.8108</td>\n",
       "      <td>0.8065</td>\n",
       "      <td>0.8088</td>\n",
       "    </tr>\n",
       "    <tr>\n",
       "      <th>3</th>\n",
       "      <td>TRAV12-2</td>\n",
       "      <td>1</td>\n",
       "      <td>0.4307</td>\n",
       "      <td>0.3833</td>\n",
       "      <td>0.8519</td>\n",
       "      <td>0.8043</td>\n",
       "      <td>0.8219</td>\n",
       "    </tr>\n",
       "    <tr>\n",
       "      <th>4</th>\n",
       "      <td>TRAV21</td>\n",
       "      <td>1</td>\n",
       "      <td>0.7054</td>\n",
       "      <td>0.6667</td>\n",
       "      <td>0.9189</td>\n",
       "      <td>0.8500</td>\n",
       "      <td>0.8947</td>\n",
       "    </tr>\n",
       "  </tbody>\n",
       "</table>\n",
       "</div>"
      ],
      "text/plain": [
       "       gene  optimal_threshold  f_beta     ppv  sensitivity     fpr  \\\n",
       "0   TRAV8-2                  1  0.9921  1.0000       0.9615  0.0000   \n",
       "1     TRAV4                  5  0.0000  0.0000       0.0000  0.0000   \n",
       "2   TRAV8-4                  1  0.5837  0.5455       0.8108  0.8065   \n",
       "3  TRAV12-2                  1  0.4307  0.3833       0.8519  0.8043   \n",
       "4    TRAV21                  1  0.7054  0.6667       0.9189  0.8500   \n",
       "\n",
       "   passing_proportion  \n",
       "0              0.9615  \n",
       "1              0.0000  \n",
       "2              0.8088  \n",
       "3              0.8219  \n",
       "4              0.8947  "
      ]
     },
     "metadata": {},
     "output_type": "display_data"
    },
    {
     "data": {
      "text/markdown": [
       "## Gene Type Metrics Summary"
      ],
      "text/plain": [
       "<IPython.core.display.Markdown object>"
      ]
     },
     "metadata": {},
     "output_type": "display_data"
    },
    {
     "data": {
      "text/markdown": [
       "* Number of genes analyzed: 45"
      ],
      "text/plain": [
       "<IPython.core.display.Markdown object>"
      ]
     },
     "metadata": {},
     "output_type": "display_data"
    },
    {
     "data": {
      "text/markdown": [
       "* Mean PPV: 0.8263"
      ],
      "text/plain": [
       "<IPython.core.display.Markdown object>"
      ]
     },
     "metadata": {},
     "output_type": "display_data"
    },
    {
     "data": {
      "text/markdown": [
       "* Median PPV: 1.0000"
      ],
      "text/plain": [
       "<IPython.core.display.Markdown object>"
      ]
     },
     "metadata": {},
     "output_type": "display_data"
    },
    {
     "data": {
      "text/markdown": [
       "* Mean Sensitivity: 0.8770"
      ],
      "text/plain": [
       "<IPython.core.display.Markdown object>"
      ]
     },
     "metadata": {},
     "output_type": "display_data"
    },
    {
     "data": {
      "text/markdown": [
       "* Median Sensitivity: 0.9762"
      ],
      "text/plain": [
       "<IPython.core.display.Markdown object>"
      ]
     },
     "metadata": {},
     "output_type": "display_data"
    },
    {
     "data": {
      "text/markdown": [
       "* Mean F-beta (beta=0.5): 0.8320"
      ],
      "text/plain": [
       "<IPython.core.display.Markdown object>"
      ]
     },
     "metadata": {},
     "output_type": "display_data"
    },
    {
     "data": {
      "text/markdown": [
       "* Median F-beta (beta=0.5): 0.9921"
      ],
      "text/plain": [
       "<IPython.core.display.Markdown object>"
      ]
     },
     "metadata": {},
     "output_type": "display_data"
    },
    {
     "data": {
      "text/markdown": [
       "* Mean passing proportion: 0.8786"
      ],
      "text/plain": [
       "<IPython.core.display.Markdown object>"
      ]
     },
     "metadata": {},
     "output_type": "display_data"
    },
    {
     "data": {
      "text/markdown": [
       "* Median passing proportion: 0.9615"
      ],
      "text/plain": [
       "<IPython.core.display.Markdown object>"
      ]
     },
     "metadata": {},
     "output_type": "display_data"
    },
    {
     "data": {
      "text/markdown": [
       "* Optimal threshold distribution:"
      ],
      "text/plain": [
       "<IPython.core.display.Markdown object>"
      ]
     },
     "metadata": {},
     "output_type": "display_data"
    },
    {
     "data": {
      "text/plain": [
       "1    40\n",
       "3     1\n",
       "4     1\n",
       "5     3\n",
       "dtype: int64"
      ]
     },
     "metadata": {},
     "output_type": "display_data"
    },
    {
     "data": {
      "text/markdown": [
       "## Processing Gene Type: TRGV"
      ],
      "text/plain": [
       "<IPython.core.display.Markdown object>"
      ]
     },
     "metadata": {},
     "output_type": "display_data"
    },
    {
     "data": {
      "text/markdown": [
       "✅ Loaded prefix consistency data for **TRGV**"
      ],
      "text/plain": [
       "<IPython.core.display.Markdown object>"
      ]
     },
     "metadata": {},
     "output_type": "display_data"
    },
    {
     "data": {
      "text/markdown": [
       "* Total rows: 866"
      ],
      "text/plain": [
       "<IPython.core.display.Markdown object>"
      ]
     },
     "metadata": {},
     "output_type": "display_data"
    },
    {
     "data": {
      "text/markdown": [
       "* Number of samples: 40"
      ],
      "text/plain": [
       "<IPython.core.display.Markdown object>"
      ]
     },
     "metadata": {},
     "output_type": "display_data"
    },
    {
     "data": {
      "text/markdown": [
       "* Number of unique alleles: 24"
      ],
      "text/plain": [
       "<IPython.core.display.Markdown object>"
      ]
     },
     "metadata": {},
     "output_type": "display_data"
    },
    {
     "data": {
      "text/markdown": [
       "* Filtered to 266 functional alleles"
      ],
      "text/plain": [
       "<IPython.core.display.Markdown object>"
      ]
     },
     "metadata": {},
     "output_type": "display_data"
    },
    {
     "name": "stdout",
     "output_type": "stream",
     "text": [
      "Found 94 potential sample directories in ground truth data.\n",
      "Successfully processed ground truth for 94 samples for TRGV.\n"
     ]
    },
    {
     "data": {
      "text/markdown": [
       "✅ Loaded ground truth data with 596 entries"
      ],
      "text/plain": [
       "<IPython.core.display.Markdown object>"
      ]
     },
     "metadata": {},
     "output_type": "display_data"
    },
    {
     "data": {
      "text/markdown": [
       "* Found 40 common samples for comparison"
      ],
      "text/plain": [
       "<IPython.core.display.Markdown object>"
      ]
     },
     "metadata": {},
     "output_type": "display_data"
    },
    {
     "data": {
      "text/markdown": [
       "* Identified 245 True Positives"
      ],
      "text/plain": [
       "<IPython.core.display.Markdown object>"
      ]
     },
     "metadata": {},
     "output_type": "display_data"
    },
    {
     "data": {
      "text/markdown": [
       "* Identified 21 False Positives"
      ],
      "text/plain": [
       "<IPython.core.display.Markdown object>"
      ]
     },
     "metadata": {},
     "output_type": "display_data"
    },
    {
     "data": {
      "text/markdown": [
       "## Calculating Gene-Level Metrics"
      ],
      "text/plain": [
       "<IPython.core.display.Markdown object>"
      ]
     },
     "metadata": {},
     "output_type": "display_data"
    },
    {
     "data": {
      "text/markdown": [
       "* Calculated metrics for 6 genes across 6 thresholds"
      ],
      "text/plain": [
       "<IPython.core.display.Markdown object>"
      ]
     },
     "metadata": {},
     "output_type": "display_data"
    },
    {
     "data": {
      "text/markdown": [
       "### Sample of Calculated Metrics"
      ],
      "text/plain": [
       "<IPython.core.display.Markdown object>"
      ]
     },
     "metadata": {},
     "output_type": "display_data"
    },
    {
     "data": {
      "text/html": [
       "<div>\n",
       "<style scoped>\n",
       "    .dataframe tbody tr th:only-of-type {\n",
       "        vertical-align: middle;\n",
       "    }\n",
       "\n",
       "    .dataframe tbody tr th {\n",
       "        vertical-align: top;\n",
       "    }\n",
       "\n",
       "    .dataframe thead th {\n",
       "        text-align: right;\n",
       "    }\n",
       "</style>\n",
       "<table border=\"1\" class=\"dataframe\">\n",
       "  <thead>\n",
       "    <tr style=\"text-align: right;\">\n",
       "      <th></th>\n",
       "      <th>gene</th>\n",
       "      <th>threshold</th>\n",
       "      <th>sensitivity</th>\n",
       "      <th>fpr</th>\n",
       "      <th>ppv</th>\n",
       "      <th>f_beta</th>\n",
       "      <th>tp</th>\n",
       "      <th>fp</th>\n",
       "      <th>tn</th>\n",
       "      <th>fn</th>\n",
       "      <th>total_samples</th>\n",
       "      <th>passing_calls</th>\n",
       "      <th>passing_proportion</th>\n",
       "    </tr>\n",
       "  </thead>\n",
       "  <tbody>\n",
       "    <tr>\n",
       "      <th>0</th>\n",
       "      <td>TRGV2</td>\n",
       "      <td>0</td>\n",
       "      <td>1.0000</td>\n",
       "      <td>1.0000</td>\n",
       "      <td>0.7167</td>\n",
       "      <td>0.7597</td>\n",
       "      <td>43</td>\n",
       "      <td>17</td>\n",
       "      <td>0</td>\n",
       "      <td>0</td>\n",
       "      <td>60</td>\n",
       "      <td>60</td>\n",
       "      <td>1.0000</td>\n",
       "    </tr>\n",
       "    <tr>\n",
       "      <th>1</th>\n",
       "      <td>TRGV2</td>\n",
       "      <td>1</td>\n",
       "      <td>0.9302</td>\n",
       "      <td>1.0000</td>\n",
       "      <td>0.7018</td>\n",
       "      <td>0.7380</td>\n",
       "      <td>40</td>\n",
       "      <td>17</td>\n",
       "      <td>0</td>\n",
       "      <td>3</td>\n",
       "      <td>60</td>\n",
       "      <td>57</td>\n",
       "      <td>0.9500</td>\n",
       "    </tr>\n",
       "    <tr>\n",
       "      <th>2</th>\n",
       "      <td>TRGV2</td>\n",
       "      <td>2</td>\n",
       "      <td>0.5349</td>\n",
       "      <td>0.4706</td>\n",
       "      <td>0.7419</td>\n",
       "      <td>0.6886</td>\n",
       "      <td>23</td>\n",
       "      <td>8</td>\n",
       "      <td>9</td>\n",
       "      <td>20</td>\n",
       "      <td>60</td>\n",
       "      <td>31</td>\n",
       "      <td>0.5167</td>\n",
       "    </tr>\n",
       "    <tr>\n",
       "      <th>3</th>\n",
       "      <td>TRGV2</td>\n",
       "      <td>3</td>\n",
       "      <td>0.2558</td>\n",
       "      <td>0.2353</td>\n",
       "      <td>0.7333</td>\n",
       "      <td>0.5340</td>\n",
       "      <td>11</td>\n",
       "      <td>4</td>\n",
       "      <td>13</td>\n",
       "      <td>32</td>\n",
       "      <td>60</td>\n",
       "      <td>15</td>\n",
       "      <td>0.2500</td>\n",
       "    </tr>\n",
       "    <tr>\n",
       "      <th>4</th>\n",
       "      <td>TRGV2</td>\n",
       "      <td>4</td>\n",
       "      <td>0.0930</td>\n",
       "      <td>0.1176</td>\n",
       "      <td>0.6667</td>\n",
       "      <td>0.2985</td>\n",
       "      <td>4</td>\n",
       "      <td>2</td>\n",
       "      <td>15</td>\n",
       "      <td>39</td>\n",
       "      <td>60</td>\n",
       "      <td>6</td>\n",
       "      <td>0.1000</td>\n",
       "    </tr>\n",
       "    <tr>\n",
       "      <th>5</th>\n",
       "      <td>TRGV2</td>\n",
       "      <td>5</td>\n",
       "      <td>0.0000</td>\n",
       "      <td>0.0000</td>\n",
       "      <td>0.0000</td>\n",
       "      <td>0.0000</td>\n",
       "      <td>0</td>\n",
       "      <td>0</td>\n",
       "      <td>17</td>\n",
       "      <td>43</td>\n",
       "      <td>60</td>\n",
       "      <td>0</td>\n",
       "      <td>0.0000</td>\n",
       "    </tr>\n",
       "    <tr>\n",
       "      <th>6</th>\n",
       "      <td>TRGV9</td>\n",
       "      <td>0</td>\n",
       "      <td>1.0000</td>\n",
       "      <td>1.0000</td>\n",
       "      <td>0.9524</td>\n",
       "      <td>0.9615</td>\n",
       "      <td>40</td>\n",
       "      <td>2</td>\n",
       "      <td>0</td>\n",
       "      <td>0</td>\n",
       "      <td>42</td>\n",
       "      <td>42</td>\n",
       "      <td>1.0000</td>\n",
       "    </tr>\n",
       "    <tr>\n",
       "      <th>7</th>\n",
       "      <td>TRGV9</td>\n",
       "      <td>1</td>\n",
       "      <td>1.0000</td>\n",
       "      <td>1.0000</td>\n",
       "      <td>0.9524</td>\n",
       "      <td>0.9615</td>\n",
       "      <td>40</td>\n",
       "      <td>2</td>\n",
       "      <td>0</td>\n",
       "      <td>0</td>\n",
       "      <td>42</td>\n",
       "      <td>42</td>\n",
       "      <td>1.0000</td>\n",
       "    </tr>\n",
       "    <tr>\n",
       "      <th>8</th>\n",
       "      <td>TRGV9</td>\n",
       "      <td>2</td>\n",
       "      <td>0.9000</td>\n",
       "      <td>1.0000</td>\n",
       "      <td>0.9474</td>\n",
       "      <td>0.9375</td>\n",
       "      <td>36</td>\n",
       "      <td>2</td>\n",
       "      <td>0</td>\n",
       "      <td>4</td>\n",
       "      <td>42</td>\n",
       "      <td>38</td>\n",
       "      <td>0.9048</td>\n",
       "    </tr>\n",
       "    <tr>\n",
       "      <th>9</th>\n",
       "      <td>TRGV9</td>\n",
       "      <td>3</td>\n",
       "      <td>0.6250</td>\n",
       "      <td>1.0000</td>\n",
       "      <td>0.9259</td>\n",
       "      <td>0.8446</td>\n",
       "      <td>25</td>\n",
       "      <td>2</td>\n",
       "      <td>0</td>\n",
       "      <td>15</td>\n",
       "      <td>42</td>\n",
       "      <td>27</td>\n",
       "      <td>0.6429</td>\n",
       "    </tr>\n",
       "  </tbody>\n",
       "</table>\n",
       "</div>"
      ],
      "text/plain": [
       "    gene  threshold  sensitivity     fpr     ppv  f_beta  tp  fp  tn  fn  \\\n",
       "0  TRGV2          0       1.0000  1.0000  0.7167  0.7597  43  17   0   0   \n",
       "1  TRGV2          1       0.9302  1.0000  0.7018  0.7380  40  17   0   3   \n",
       "2  TRGV2          2       0.5349  0.4706  0.7419  0.6886  23   8   9  20   \n",
       "3  TRGV2          3       0.2558  0.2353  0.7333  0.5340  11   4  13  32   \n",
       "4  TRGV2          4       0.0930  0.1176  0.6667  0.2985   4   2  15  39   \n",
       "5  TRGV2          5       0.0000  0.0000  0.0000  0.0000   0   0  17  43   \n",
       "6  TRGV9          0       1.0000  1.0000  0.9524  0.9615  40   2   0   0   \n",
       "7  TRGV9          1       1.0000  1.0000  0.9524  0.9615  40   2   0   0   \n",
       "8  TRGV9          2       0.9000  1.0000  0.9474  0.9375  36   2   0   4   \n",
       "9  TRGV9          3       0.6250  1.0000  0.9259  0.8446  25   2   0  15   \n",
       "\n",
       "   total_samples  passing_calls  passing_proportion  \n",
       "0             60             60              1.0000  \n",
       "1             60             57              0.9500  \n",
       "2             60             31              0.5167  \n",
       "3             60             15              0.2500  \n",
       "4             60              6              0.1000  \n",
       "5             60              0              0.0000  \n",
       "6             42             42              1.0000  \n",
       "7             42             42              1.0000  \n",
       "8             42             38              0.9048  \n",
       "9             42             27              0.6429  "
      ]
     },
     "metadata": {},
     "output_type": "display_data"
    },
    {
     "data": {
      "text/markdown": [
       "## Finding Optimal Thresholds Based on F-beta Score (beta=0.5)"
      ],
      "text/plain": [
       "<IPython.core.display.Markdown object>"
      ]
     },
     "metadata": {},
     "output_type": "display_data"
    },
    {
     "data": {
      "text/markdown": [
       "* Identified optimal thresholds for 6 genes"
      ],
      "text/plain": [
       "<IPython.core.display.Markdown object>"
      ]
     },
     "metadata": {},
     "output_type": "display_data"
    },
    {
     "data": {
      "text/html": [
       "<div>\n",
       "<style scoped>\n",
       "    .dataframe tbody tr th:only-of-type {\n",
       "        vertical-align: middle;\n",
       "    }\n",
       "\n",
       "    .dataframe tbody tr th {\n",
       "        vertical-align: top;\n",
       "    }\n",
       "\n",
       "    .dataframe thead th {\n",
       "        text-align: right;\n",
       "    }\n",
       "</style>\n",
       "<table border=\"1\" class=\"dataframe\">\n",
       "  <thead>\n",
       "    <tr style=\"text-align: right;\">\n",
       "      <th></th>\n",
       "      <th>gene</th>\n",
       "      <th>optimal_threshold</th>\n",
       "      <th>f_beta</th>\n",
       "      <th>ppv</th>\n",
       "      <th>sensitivity</th>\n",
       "      <th>fpr</th>\n",
       "      <th>passing_proportion</th>\n",
       "    </tr>\n",
       "  </thead>\n",
       "  <tbody>\n",
       "    <tr>\n",
       "      <th>0</th>\n",
       "      <td>TRGV2</td>\n",
       "      <td>1</td>\n",
       "      <td>0.7380</td>\n",
       "      <td>0.7018</td>\n",
       "      <td>0.9302</td>\n",
       "      <td>1.0</td>\n",
       "      <td>0.9500</td>\n",
       "    </tr>\n",
       "    <tr>\n",
       "      <th>1</th>\n",
       "      <td>TRGV9</td>\n",
       "      <td>1</td>\n",
       "      <td>0.9615</td>\n",
       "      <td>0.9524</td>\n",
       "      <td>1.0000</td>\n",
       "      <td>1.0</td>\n",
       "      <td>1.0000</td>\n",
       "    </tr>\n",
       "    <tr>\n",
       "      <th>2</th>\n",
       "      <td>TRGV3</td>\n",
       "      <td>1</td>\n",
       "      <td>0.9606</td>\n",
       "      <td>0.9512</td>\n",
       "      <td>1.0000</td>\n",
       "      <td>1.0</td>\n",
       "      <td>1.0000</td>\n",
       "    </tr>\n",
       "    <tr>\n",
       "      <th>3</th>\n",
       "      <td>TRGV4</td>\n",
       "      <td>1</td>\n",
       "      <td>0.9955</td>\n",
       "      <td>1.0000</td>\n",
       "      <td>0.9778</td>\n",
       "      <td>0.0</td>\n",
       "      <td>0.9778</td>\n",
       "    </tr>\n",
       "    <tr>\n",
       "      <th>4</th>\n",
       "      <td>TRGV8</td>\n",
       "      <td>1</td>\n",
       "      <td>1.0000</td>\n",
       "      <td>1.0000</td>\n",
       "      <td>1.0000</td>\n",
       "      <td>0.0</td>\n",
       "      <td>1.0000</td>\n",
       "    </tr>\n",
       "  </tbody>\n",
       "</table>\n",
       "</div>"
      ],
      "text/plain": [
       "    gene  optimal_threshold  f_beta     ppv  sensitivity  fpr  \\\n",
       "0  TRGV2                  1  0.7380  0.7018       0.9302  1.0   \n",
       "1  TRGV9                  1  0.9615  0.9524       1.0000  1.0   \n",
       "2  TRGV3                  1  0.9606  0.9512       1.0000  1.0   \n",
       "3  TRGV4                  1  0.9955  1.0000       0.9778  0.0   \n",
       "4  TRGV8                  1  1.0000  1.0000       1.0000  0.0   \n",
       "\n",
       "   passing_proportion  \n",
       "0              0.9500  \n",
       "1              1.0000  \n",
       "2              1.0000  \n",
       "3              0.9778  \n",
       "4              1.0000  "
      ]
     },
     "metadata": {},
     "output_type": "display_data"
    },
    {
     "data": {
      "text/markdown": [
       "## Gene Type Metrics Summary"
      ],
      "text/plain": [
       "<IPython.core.display.Markdown object>"
      ]
     },
     "metadata": {},
     "output_type": "display_data"
    },
    {
     "data": {
      "text/markdown": [
       "* Number of genes analyzed: 6"
      ],
      "text/plain": [
       "<IPython.core.display.Markdown object>"
      ]
     },
     "metadata": {},
     "output_type": "display_data"
    },
    {
     "data": {
      "text/markdown": [
       "* Mean PPV: 0.9342"
      ],
      "text/plain": [
       "<IPython.core.display.Markdown object>"
      ]
     },
     "metadata": {},
     "output_type": "display_data"
    },
    {
     "data": {
      "text/markdown": [
       "* Median PPV: 0.9762"
      ],
      "text/plain": [
       "<IPython.core.display.Markdown object>"
      ]
     },
     "metadata": {},
     "output_type": "display_data"
    },
    {
     "data": {
      "text/markdown": [
       "* Mean Sensitivity: 0.9847"
      ],
      "text/plain": [
       "<IPython.core.display.Markdown object>"
      ]
     },
     "metadata": {},
     "output_type": "display_data"
    },
    {
     "data": {
      "text/markdown": [
       "* Median Sensitivity: 1.0000"
      ],
      "text/plain": [
       "<IPython.core.display.Markdown object>"
      ]
     },
     "metadata": {},
     "output_type": "display_data"
    },
    {
     "data": {
      "text/markdown": [
       "* Mean F-beta (beta=0.5): 0.9426"
      ],
      "text/plain": [
       "<IPython.core.display.Markdown object>"
      ]
     },
     "metadata": {},
     "output_type": "display_data"
    },
    {
     "data": {
      "text/markdown": [
       "* Median F-beta (beta=0.5): 0.9785"
      ],
      "text/plain": [
       "<IPython.core.display.Markdown object>"
      ]
     },
     "metadata": {},
     "output_type": "display_data"
    },
    {
     "data": {
      "text/markdown": [
       "* Mean passing proportion: 0.9880"
      ],
      "text/plain": [
       "<IPython.core.display.Markdown object>"
      ]
     },
     "metadata": {},
     "output_type": "display_data"
    },
    {
     "data": {
      "text/markdown": [
       "* Median passing proportion: 1.0000"
      ],
      "text/plain": [
       "<IPython.core.display.Markdown object>"
      ]
     },
     "metadata": {},
     "output_type": "display_data"
    },
    {
     "data": {
      "text/markdown": [
       "* Optimal threshold distribution:"
      ],
      "text/plain": [
       "<IPython.core.display.Markdown object>"
      ]
     },
     "metadata": {},
     "output_type": "display_data"
    },
    {
     "data": {
      "text/plain": [
       "1    6\n",
       "dtype: int64"
      ]
     },
     "metadata": {},
     "output_type": "display_data"
    },
    {
     "data": {
      "text/markdown": [
       "## Processing Gene Type: TRDV"
      ],
      "text/plain": [
       "<IPython.core.display.Markdown object>"
      ]
     },
     "metadata": {},
     "output_type": "display_data"
    },
    {
     "data": {
      "text/markdown": [
       "✅ Loaded prefix consistency data for **TRDV**"
      ],
      "text/plain": [
       "<IPython.core.display.Markdown object>"
      ]
     },
     "metadata": {},
     "output_type": "display_data"
    },
    {
     "data": {
      "text/markdown": [
       "* Total rows: 191"
      ],
      "text/plain": [
       "<IPython.core.display.Markdown object>"
      ]
     },
     "metadata": {},
     "output_type": "display_data"
    },
    {
     "data": {
      "text/markdown": [
       "* Number of samples: 40"
      ],
      "text/plain": [
       "<IPython.core.display.Markdown object>"
      ]
     },
     "metadata": {},
     "output_type": "display_data"
    },
    {
     "data": {
      "text/markdown": [
       "* Number of unique alleles: 6"
      ],
      "text/plain": [
       "<IPython.core.display.Markdown object>"
      ]
     },
     "metadata": {},
     "output_type": "display_data"
    },
    {
     "data": {
      "text/markdown": [
       "* Filtered to 145 functional alleles"
      ],
      "text/plain": [
       "<IPython.core.display.Markdown object>"
      ]
     },
     "metadata": {},
     "output_type": "display_data"
    },
    {
     "name": "stdout",
     "output_type": "stream",
     "text": [
      "Found 94 potential sample directories in ground truth data.\n",
      "Successfully processed ground truth for 40 samples for TRDV.\n"
     ]
    },
    {
     "data": {
      "text/markdown": [
       "✅ Loaded ground truth data with 40 entries"
      ],
      "text/plain": [
       "<IPython.core.display.Markdown object>"
      ]
     },
     "metadata": {},
     "output_type": "display_data"
    },
    {
     "data": {
      "text/markdown": [
       "* Found 30 common samples for comparison"
      ],
      "text/plain": [
       "<IPython.core.display.Markdown object>"
      ]
     },
     "metadata": {},
     "output_type": "display_data"
    },
    {
     "data": {
      "text/markdown": [
       "* Identified 31 True Positives"
      ],
      "text/plain": [
       "<IPython.core.display.Markdown object>"
      ]
     },
     "metadata": {},
     "output_type": "display_data"
    },
    {
     "data": {
      "text/markdown": [
       "* Identified 77 False Positives"
      ],
      "text/plain": [
       "<IPython.core.display.Markdown object>"
      ]
     },
     "metadata": {},
     "output_type": "display_data"
    },
    {
     "data": {
      "text/markdown": [
       "## Calculating Gene-Level Metrics"
      ],
      "text/plain": [
       "<IPython.core.display.Markdown object>"
      ]
     },
     "metadata": {},
     "output_type": "display_data"
    },
    {
     "data": {
      "text/markdown": [
       "* Calculated metrics for 3 genes across 6 thresholds"
      ],
      "text/plain": [
       "<IPython.core.display.Markdown object>"
      ]
     },
     "metadata": {},
     "output_type": "display_data"
    },
    {
     "data": {
      "text/markdown": [
       "### Sample of Calculated Metrics"
      ],
      "text/plain": [
       "<IPython.core.display.Markdown object>"
      ]
     },
     "metadata": {},
     "output_type": "display_data"
    },
    {
     "data": {
      "text/html": [
       "<div>\n",
       "<style scoped>\n",
       "    .dataframe tbody tr th:only-of-type {\n",
       "        vertical-align: middle;\n",
       "    }\n",
       "\n",
       "    .dataframe tbody tr th {\n",
       "        vertical-align: top;\n",
       "    }\n",
       "\n",
       "    .dataframe thead th {\n",
       "        text-align: right;\n",
       "    }\n",
       "</style>\n",
       "<table border=\"1\" class=\"dataframe\">\n",
       "  <thead>\n",
       "    <tr style=\"text-align: right;\">\n",
       "      <th></th>\n",
       "      <th>gene</th>\n",
       "      <th>threshold</th>\n",
       "      <th>sensitivity</th>\n",
       "      <th>fpr</th>\n",
       "      <th>ppv</th>\n",
       "      <th>f_beta</th>\n",
       "      <th>tp</th>\n",
       "      <th>fp</th>\n",
       "      <th>tn</th>\n",
       "      <th>fn</th>\n",
       "      <th>total_samples</th>\n",
       "      <th>passing_calls</th>\n",
       "      <th>passing_proportion</th>\n",
       "    </tr>\n",
       "  </thead>\n",
       "  <tbody>\n",
       "    <tr>\n",
       "      <th>0</th>\n",
       "      <td>TRDV1</td>\n",
       "      <td>0</td>\n",
       "      <td>0.0</td>\n",
       "      <td>1.0000</td>\n",
       "      <td>0.0</td>\n",
       "      <td>0.0</td>\n",
       "      <td>0</td>\n",
       "      <td>30</td>\n",
       "      <td>0</td>\n",
       "      <td>0</td>\n",
       "      <td>30</td>\n",
       "      <td>30</td>\n",
       "      <td>1.0000</td>\n",
       "    </tr>\n",
       "    <tr>\n",
       "      <th>1</th>\n",
       "      <td>TRDV1</td>\n",
       "      <td>1</td>\n",
       "      <td>0.0</td>\n",
       "      <td>1.0000</td>\n",
       "      <td>0.0</td>\n",
       "      <td>0.0</td>\n",
       "      <td>0</td>\n",
       "      <td>30</td>\n",
       "      <td>0</td>\n",
       "      <td>0</td>\n",
       "      <td>30</td>\n",
       "      <td>30</td>\n",
       "      <td>1.0000</td>\n",
       "    </tr>\n",
       "    <tr>\n",
       "      <th>2</th>\n",
       "      <td>TRDV1</td>\n",
       "      <td>2</td>\n",
       "      <td>0.0</td>\n",
       "      <td>0.9333</td>\n",
       "      <td>0.0</td>\n",
       "      <td>0.0</td>\n",
       "      <td>0</td>\n",
       "      <td>28</td>\n",
       "      <td>2</td>\n",
       "      <td>0</td>\n",
       "      <td>30</td>\n",
       "      <td>28</td>\n",
       "      <td>0.9333</td>\n",
       "    </tr>\n",
       "    <tr>\n",
       "      <th>3</th>\n",
       "      <td>TRDV1</td>\n",
       "      <td>3</td>\n",
       "      <td>0.0</td>\n",
       "      <td>0.9333</td>\n",
       "      <td>0.0</td>\n",
       "      <td>0.0</td>\n",
       "      <td>0</td>\n",
       "      <td>28</td>\n",
       "      <td>2</td>\n",
       "      <td>0</td>\n",
       "      <td>30</td>\n",
       "      <td>28</td>\n",
       "      <td>0.9333</td>\n",
       "    </tr>\n",
       "    <tr>\n",
       "      <th>4</th>\n",
       "      <td>TRDV1</td>\n",
       "      <td>4</td>\n",
       "      <td>0.0</td>\n",
       "      <td>0.9333</td>\n",
       "      <td>0.0</td>\n",
       "      <td>0.0</td>\n",
       "      <td>0</td>\n",
       "      <td>28</td>\n",
       "      <td>2</td>\n",
       "      <td>0</td>\n",
       "      <td>30</td>\n",
       "      <td>28</td>\n",
       "      <td>0.9333</td>\n",
       "    </tr>\n",
       "    <tr>\n",
       "      <th>5</th>\n",
       "      <td>TRDV1</td>\n",
       "      <td>5</td>\n",
       "      <td>0.0</td>\n",
       "      <td>0.0000</td>\n",
       "      <td>0.0</td>\n",
       "      <td>0.0</td>\n",
       "      <td>0</td>\n",
       "      <td>0</td>\n",
       "      <td>30</td>\n",
       "      <td>0</td>\n",
       "      <td>30</td>\n",
       "      <td>0</td>\n",
       "      <td>0.0000</td>\n",
       "    </tr>\n",
       "    <tr>\n",
       "      <th>6</th>\n",
       "      <td>TRDV3</td>\n",
       "      <td>0</td>\n",
       "      <td>0.0</td>\n",
       "      <td>1.0000</td>\n",
       "      <td>0.0</td>\n",
       "      <td>0.0</td>\n",
       "      <td>0</td>\n",
       "      <td>35</td>\n",
       "      <td>0</td>\n",
       "      <td>0</td>\n",
       "      <td>35</td>\n",
       "      <td>35</td>\n",
       "      <td>1.0000</td>\n",
       "    </tr>\n",
       "    <tr>\n",
       "      <th>7</th>\n",
       "      <td>TRDV3</td>\n",
       "      <td>1</td>\n",
       "      <td>0.0</td>\n",
       "      <td>1.0000</td>\n",
       "      <td>0.0</td>\n",
       "      <td>0.0</td>\n",
       "      <td>0</td>\n",
       "      <td>35</td>\n",
       "      <td>0</td>\n",
       "      <td>0</td>\n",
       "      <td>35</td>\n",
       "      <td>35</td>\n",
       "      <td>1.0000</td>\n",
       "    </tr>\n",
       "    <tr>\n",
       "      <th>8</th>\n",
       "      <td>TRDV3</td>\n",
       "      <td>2</td>\n",
       "      <td>0.0</td>\n",
       "      <td>0.8000</td>\n",
       "      <td>0.0</td>\n",
       "      <td>0.0</td>\n",
       "      <td>0</td>\n",
       "      <td>28</td>\n",
       "      <td>7</td>\n",
       "      <td>0</td>\n",
       "      <td>35</td>\n",
       "      <td>28</td>\n",
       "      <td>0.8000</td>\n",
       "    </tr>\n",
       "    <tr>\n",
       "      <th>9</th>\n",
       "      <td>TRDV3</td>\n",
       "      <td>3</td>\n",
       "      <td>0.0</td>\n",
       "      <td>0.6571</td>\n",
       "      <td>0.0</td>\n",
       "      <td>0.0</td>\n",
       "      <td>0</td>\n",
       "      <td>23</td>\n",
       "      <td>12</td>\n",
       "      <td>0</td>\n",
       "      <td>35</td>\n",
       "      <td>23</td>\n",
       "      <td>0.6571</td>\n",
       "    </tr>\n",
       "  </tbody>\n",
       "</table>\n",
       "</div>"
      ],
      "text/plain": [
       "    gene  threshold  sensitivity     fpr  ppv  f_beta  tp  fp  tn  fn  \\\n",
       "0  TRDV1          0          0.0  1.0000  0.0     0.0   0  30   0   0   \n",
       "1  TRDV1          1          0.0  1.0000  0.0     0.0   0  30   0   0   \n",
       "2  TRDV1          2          0.0  0.9333  0.0     0.0   0  28   2   0   \n",
       "3  TRDV1          3          0.0  0.9333  0.0     0.0   0  28   2   0   \n",
       "4  TRDV1          4          0.0  0.9333  0.0     0.0   0  28   2   0   \n",
       "5  TRDV1          5          0.0  0.0000  0.0     0.0   0   0  30   0   \n",
       "6  TRDV3          0          0.0  1.0000  0.0     0.0   0  35   0   0   \n",
       "7  TRDV3          1          0.0  1.0000  0.0     0.0   0  35   0   0   \n",
       "8  TRDV3          2          0.0  0.8000  0.0     0.0   0  28   7   0   \n",
       "9  TRDV3          3          0.0  0.6571  0.0     0.0   0  23  12   0   \n",
       "\n",
       "   total_samples  passing_calls  passing_proportion  \n",
       "0             30             30              1.0000  \n",
       "1             30             30              1.0000  \n",
       "2             30             28              0.9333  \n",
       "3             30             28              0.9333  \n",
       "4             30             28              0.9333  \n",
       "5             30              0              0.0000  \n",
       "6             35             35              1.0000  \n",
       "7             35             35              1.0000  \n",
       "8             35             28              0.8000  \n",
       "9             35             23              0.6571  "
      ]
     },
     "metadata": {},
     "output_type": "display_data"
    },
    {
     "data": {
      "text/markdown": [
       "## Finding Optimal Thresholds Based on F-beta Score (beta=0.5)"
      ],
      "text/plain": [
       "<IPython.core.display.Markdown object>"
      ]
     },
     "metadata": {},
     "output_type": "display_data"
    },
    {
     "data": {
      "text/markdown": [
       "* Identified optimal thresholds for 3 genes"
      ],
      "text/plain": [
       "<IPython.core.display.Markdown object>"
      ]
     },
     "metadata": {},
     "output_type": "display_data"
    },
    {
     "data": {
      "text/html": [
       "<div>\n",
       "<style scoped>\n",
       "    .dataframe tbody tr th:only-of-type {\n",
       "        vertical-align: middle;\n",
       "    }\n",
       "\n",
       "    .dataframe tbody tr th {\n",
       "        vertical-align: top;\n",
       "    }\n",
       "\n",
       "    .dataframe thead th {\n",
       "        text-align: right;\n",
       "    }\n",
       "</style>\n",
       "<table border=\"1\" class=\"dataframe\">\n",
       "  <thead>\n",
       "    <tr style=\"text-align: right;\">\n",
       "      <th></th>\n",
       "      <th>gene</th>\n",
       "      <th>optimal_threshold</th>\n",
       "      <th>f_beta</th>\n",
       "      <th>ppv</th>\n",
       "      <th>sensitivity</th>\n",
       "      <th>fpr</th>\n",
       "      <th>passing_proportion</th>\n",
       "    </tr>\n",
       "  </thead>\n",
       "  <tbody>\n",
       "    <tr>\n",
       "      <th>0</th>\n",
       "      <td>TRDV1</td>\n",
       "      <td>5</td>\n",
       "      <td>0.0000</td>\n",
       "      <td>0.0000</td>\n",
       "      <td>0.0</td>\n",
       "      <td>0.0</td>\n",
       "      <td>0.0</td>\n",
       "    </tr>\n",
       "    <tr>\n",
       "      <th>1</th>\n",
       "      <td>TRDV3</td>\n",
       "      <td>5</td>\n",
       "      <td>0.0000</td>\n",
       "      <td>0.0000</td>\n",
       "      <td>0.0</td>\n",
       "      <td>0.0</td>\n",
       "      <td>0.0</td>\n",
       "    </tr>\n",
       "    <tr>\n",
       "      <th>2</th>\n",
       "      <td>TRDV2</td>\n",
       "      <td>1</td>\n",
       "      <td>0.7635</td>\n",
       "      <td>0.7209</td>\n",
       "      <td>1.0</td>\n",
       "      <td>1.0</td>\n",
       "      <td>1.0</td>\n",
       "    </tr>\n",
       "  </tbody>\n",
       "</table>\n",
       "</div>"
      ],
      "text/plain": [
       "    gene  optimal_threshold  f_beta     ppv  sensitivity  fpr  \\\n",
       "0  TRDV1                  5  0.0000  0.0000          0.0  0.0   \n",
       "1  TRDV3                  5  0.0000  0.0000          0.0  0.0   \n",
       "2  TRDV2                  1  0.7635  0.7209          1.0  1.0   \n",
       "\n",
       "   passing_proportion  \n",
       "0                 0.0  \n",
       "1                 0.0  \n",
       "2                 1.0  "
      ]
     },
     "metadata": {},
     "output_type": "display_data"
    },
    {
     "data": {
      "text/markdown": [
       "## Gene Type Metrics Summary"
      ],
      "text/plain": [
       "<IPython.core.display.Markdown object>"
      ]
     },
     "metadata": {},
     "output_type": "display_data"
    },
    {
     "data": {
      "text/markdown": [
       "* Number of genes analyzed: 3"
      ],
      "text/plain": [
       "<IPython.core.display.Markdown object>"
      ]
     },
     "metadata": {},
     "output_type": "display_data"
    },
    {
     "data": {
      "text/markdown": [
       "* Mean PPV: 0.2403"
      ],
      "text/plain": [
       "<IPython.core.display.Markdown object>"
      ]
     },
     "metadata": {},
     "output_type": "display_data"
    },
    {
     "data": {
      "text/markdown": [
       "* Median PPV: 0.0000"
      ],
      "text/plain": [
       "<IPython.core.display.Markdown object>"
      ]
     },
     "metadata": {},
     "output_type": "display_data"
    },
    {
     "data": {
      "text/markdown": [
       "* Mean Sensitivity: 0.3333"
      ],
      "text/plain": [
       "<IPython.core.display.Markdown object>"
      ]
     },
     "metadata": {},
     "output_type": "display_data"
    },
    {
     "data": {
      "text/markdown": [
       "* Median Sensitivity: 0.0000"
      ],
      "text/plain": [
       "<IPython.core.display.Markdown object>"
      ]
     },
     "metadata": {},
     "output_type": "display_data"
    },
    {
     "data": {
      "text/markdown": [
       "* Mean F-beta (beta=0.5): 0.2545"
      ],
      "text/plain": [
       "<IPython.core.display.Markdown object>"
      ]
     },
     "metadata": {},
     "output_type": "display_data"
    },
    {
     "data": {
      "text/markdown": [
       "* Median F-beta (beta=0.5): 0.0000"
      ],
      "text/plain": [
       "<IPython.core.display.Markdown object>"
      ]
     },
     "metadata": {},
     "output_type": "display_data"
    },
    {
     "data": {
      "text/markdown": [
       "* Mean passing proportion: 0.3333"
      ],
      "text/plain": [
       "<IPython.core.display.Markdown object>"
      ]
     },
     "metadata": {},
     "output_type": "display_data"
    },
    {
     "data": {
      "text/markdown": [
       "* Median passing proportion: 0.0000"
      ],
      "text/plain": [
       "<IPython.core.display.Markdown object>"
      ]
     },
     "metadata": {},
     "output_type": "display_data"
    },
    {
     "data": {
      "text/markdown": [
       "* Optimal threshold distribution:"
      ],
      "text/plain": [
       "<IPython.core.display.Markdown object>"
      ]
     },
     "metadata": {},
     "output_type": "display_data"
    },
    {
     "data": {
      "text/plain": [
       "1    1\n",
       "5    2\n",
       "dtype: int64"
      ]
     },
     "metadata": {},
     "output_type": "display_data"
    },
    {
     "data": {
      "text/markdown": [
       "# Summary Table of Gene Type Metrics"
      ],
      "text/plain": [
       "<IPython.core.display.Markdown object>"
      ]
     },
     "metadata": {},
     "output_type": "display_data"
    },
    {
     "data": {
      "text/html": [
       "<div>\n",
       "<style scoped>\n",
       "    .dataframe tbody tr th:only-of-type {\n",
       "        vertical-align: middle;\n",
       "    }\n",
       "\n",
       "    .dataframe tbody tr th {\n",
       "        vertical-align: top;\n",
       "    }\n",
       "\n",
       "    .dataframe thead th {\n",
       "        text-align: right;\n",
       "    }\n",
       "</style>\n",
       "<table border=\"1\" class=\"dataframe\">\n",
       "  <thead>\n",
       "    <tr style=\"text-align: right;\">\n",
       "      <th></th>\n",
       "      <th>Gene Type</th>\n",
       "      <th>Number of Genes</th>\n",
       "      <th>Mean PPV</th>\n",
       "      <th>Median PPV</th>\n",
       "      <th>Mean Sensitivity</th>\n",
       "      <th>Median Sensitivity</th>\n",
       "      <th>Mean F-beta (beta=0.5)</th>\n",
       "      <th>Median F-beta (beta=0.5)</th>\n",
       "      <th>Mean Passing Proportion</th>\n",
       "      <th>Median Passing Proportion</th>\n",
       "    </tr>\n",
       "  </thead>\n",
       "  <tbody>\n",
       "    <tr>\n",
       "      <th>0</th>\n",
       "      <td>IGHV</td>\n",
       "      <td>52</td>\n",
       "      <td>0.8771</td>\n",
       "      <td>0.9310</td>\n",
       "      <td>0.3637</td>\n",
       "      <td>0.3588</td>\n",
       "      <td>0.6677</td>\n",
       "      <td>0.6948</td>\n",
       "      <td>0.3390</td>\n",
       "      <td>0.3359</td>\n",
       "    </tr>\n",
       "    <tr>\n",
       "      <th>1</th>\n",
       "      <td>IGLV</td>\n",
       "      <td>33</td>\n",
       "      <td>0.9633</td>\n",
       "      <td>1.0000</td>\n",
       "      <td>0.9701</td>\n",
       "      <td>0.9778</td>\n",
       "      <td>0.9635</td>\n",
       "      <td>0.9877</td>\n",
       "      <td>0.9621</td>\n",
       "      <td>0.9756</td>\n",
       "    </tr>\n",
       "    <tr>\n",
       "      <th>2</th>\n",
       "      <td>IGKV</td>\n",
       "      <td>37</td>\n",
       "      <td>0.8203</td>\n",
       "      <td>0.8966</td>\n",
       "      <td>0.7196</td>\n",
       "      <td>0.8043</td>\n",
       "      <td>0.7943</td>\n",
       "      <td>0.8599</td>\n",
       "      <td>0.6982</td>\n",
       "      <td>0.7692</td>\n",
       "    </tr>\n",
       "    <tr>\n",
       "      <th>3</th>\n",
       "      <td>TRAV</td>\n",
       "      <td>45</td>\n",
       "      <td>0.8263</td>\n",
       "      <td>1.0000</td>\n",
       "      <td>0.8770</td>\n",
       "      <td>0.9762</td>\n",
       "      <td>0.8320</td>\n",
       "      <td>0.9921</td>\n",
       "      <td>0.8786</td>\n",
       "      <td>0.9615</td>\n",
       "    </tr>\n",
       "    <tr>\n",
       "      <th>4</th>\n",
       "      <td>TRGV</td>\n",
       "      <td>6</td>\n",
       "      <td>0.9342</td>\n",
       "      <td>0.9762</td>\n",
       "      <td>0.9847</td>\n",
       "      <td>1.0000</td>\n",
       "      <td>0.9426</td>\n",
       "      <td>0.9785</td>\n",
       "      <td>0.9880</td>\n",
       "      <td>1.0000</td>\n",
       "    </tr>\n",
       "    <tr>\n",
       "      <th>5</th>\n",
       "      <td>TRDV</td>\n",
       "      <td>3</td>\n",
       "      <td>0.2403</td>\n",
       "      <td>0.0000</td>\n",
       "      <td>0.3333</td>\n",
       "      <td>0.0000</td>\n",
       "      <td>0.2545</td>\n",
       "      <td>0.0000</td>\n",
       "      <td>0.3333</td>\n",
       "      <td>0.0000</td>\n",
       "    </tr>\n",
       "  </tbody>\n",
       "</table>\n",
       "</div>"
      ],
      "text/plain": [
       "  Gene Type  Number of Genes Mean PPV Median PPV Mean Sensitivity  \\\n",
       "0      IGHV               52   0.8771     0.9310           0.3637   \n",
       "1      IGLV               33   0.9633     1.0000           0.9701   \n",
       "2      IGKV               37   0.8203     0.8966           0.7196   \n",
       "3      TRAV               45   0.8263     1.0000           0.8770   \n",
       "4      TRGV                6   0.9342     0.9762           0.9847   \n",
       "5      TRDV                3   0.2403     0.0000           0.3333   \n",
       "\n",
       "  Median Sensitivity Mean F-beta (beta=0.5) Median F-beta (beta=0.5)  \\\n",
       "0             0.3588                 0.6677                   0.6948   \n",
       "1             0.9778                 0.9635                   0.9877   \n",
       "2             0.8043                 0.7943                   0.8599   \n",
       "3             0.9762                 0.8320                   0.9921   \n",
       "4             1.0000                 0.9426                   0.9785   \n",
       "5             0.0000                 0.2545                   0.0000   \n",
       "\n",
       "  Mean Passing Proportion Median Passing Proportion  \n",
       "0                  0.3390                    0.3359  \n",
       "1                  0.9621                    0.9756  \n",
       "2                  0.6982                    0.7692  \n",
       "3                  0.8786                    0.9615  \n",
       "4                  0.9880                    1.0000  \n",
       "5                  0.3333                    0.0000  "
      ]
     },
     "metadata": {},
     "output_type": "display_data"
    },
    {
     "data": {
      "text/markdown": [
       "## LaTeX code for the table:"
      ],
      "text/plain": [
       "<IPython.core.display.Markdown object>"
      ]
     },
     "metadata": {},
     "output_type": "display_data"
    },
    {
     "data": {
      "text/markdown": [
       "```latex\n",
       "\\begin{tabular}{lrllllllll}\n",
       "\\toprule\n",
       "Gene Type & Number of Genes & Mean PPV & Median PPV & Mean Sensitivity & Median Sensitivity & Mean F-beta (beta=0.5) & Median F-beta (beta=0.5) & Mean Passing Proportion & Median Passing Proportion \\\\\n",
       "\\midrule\n",
       "IGHV & 52 & 0.8771 & 0.9310 & 0.3637 & 0.3588 & 0.6677 & 0.6948 & 0.3390 & 0.3359 \\\\\n",
       "IGLV & 33 & 0.9633 & 1.0000 & 0.9701 & 0.9778 & 0.9635 & 0.9877 & 0.9621 & 0.9756 \\\\\n",
       "IGKV & 37 & 0.8203 & 0.8966 & 0.7196 & 0.8043 & 0.7943 & 0.8599 & 0.6982 & 0.7692 \\\\\n",
       "TRAV & 45 & 0.8263 & 1.0000 & 0.8770 & 0.9762 & 0.8320 & 0.9921 & 0.8786 & 0.9615 \\\\\n",
       "TRGV & 6 & 0.9342 & 0.9762 & 0.9847 & 1.0000 & 0.9426 & 0.9785 & 0.9880 & 1.0000 \\\\\n",
       "TRDV & 3 & 0.2403 & 0.0000 & 0.3333 & 0.0000 & 0.2545 & 0.0000 & 0.3333 & 0.0000 \\\\\n",
       "\\bottomrule\n",
       "\\end{tabular}\n",
       "\n",
       "```"
      ],
      "text/plain": [
       "<IPython.core.display.Markdown object>"
      ]
     },
     "metadata": {},
     "output_type": "display_data"
    }
   ],
   "source": [
    "# ## Main Processing Loop\n",
    "# Process all gene types and generate summary table\n",
    "\n",
    "# Initialize dictionary to store metrics for all gene types\n",
    "gene_types_metrics = {}\n",
    "\n",
    "# Process each gene type\n",
    "for gene_type in GENE_TYPES_TO_PROCESS:\n",
    "    gene_type_metrics = process_gene_type(gene_type)\n",
    "    if gene_type_metrics:\n",
    "        gene_types_metrics[gene_type] = gene_type_metrics\n",
    "\n",
    "# Create and display summary table\n",
    "if gene_types_metrics:\n",
    "    display(Markdown(\"# Summary Table of Gene Type Metrics\"))\n",
    "    summary_table = create_summary_table(gene_types_metrics)\n",
    "    display(summary_table)\n",
    "    \n",
    "    # Generate LaTeX code for the table\n",
    "    latex_table = summary_table.to_latex(index=False)\n",
    "    display(Markdown(\"## LaTeX code for the table:\"))\n",
    "    display(Markdown(f\"```latex\\n{latex_table}\\n```\"))\n",
    "    \n"
   ]
  },
  {
   "cell_type": "code",
   "execution_count": 12,
   "id": "56150340",
   "metadata": {},
   "outputs": [
    {
     "data": {
      "text/markdown": [
       "# Simplified Summary Table"
      ],
      "text/plain": [
       "<IPython.core.display.Markdown object>"
      ]
     },
     "metadata": {},
     "output_type": "display_data"
    },
    {
     "data": {
      "text/html": [
       "<div>\n",
       "<style scoped>\n",
       "    .dataframe tbody tr th:only-of-type {\n",
       "        vertical-align: middle;\n",
       "    }\n",
       "\n",
       "    .dataframe tbody tr th {\n",
       "        vertical-align: top;\n",
       "    }\n",
       "\n",
       "    .dataframe thead th {\n",
       "        text-align: right;\n",
       "    }\n",
       "</style>\n",
       "<table border=\"1\" class=\"dataframe\">\n",
       "  <thead>\n",
       "    <tr style=\"text-align: right;\">\n",
       "      <th></th>\n",
       "      <th>Gene Type</th>\n",
       "      <th>Mean PPV</th>\n",
       "      <th>Median PPV</th>\n",
       "      <th>Mean Passing Proportion</th>\n",
       "      <th>Median Passing Proportion</th>\n",
       "    </tr>\n",
       "  </thead>\n",
       "  <tbody>\n",
       "    <tr>\n",
       "      <th>0</th>\n",
       "      <td>IGHV</td>\n",
       "      <td>0.8771</td>\n",
       "      <td>0.9310</td>\n",
       "      <td>0.3390</td>\n",
       "      <td>0.3359</td>\n",
       "    </tr>\n",
       "    <tr>\n",
       "      <th>1</th>\n",
       "      <td>IGLV</td>\n",
       "      <td>0.9633</td>\n",
       "      <td>1.0000</td>\n",
       "      <td>0.9621</td>\n",
       "      <td>0.9756</td>\n",
       "    </tr>\n",
       "    <tr>\n",
       "      <th>2</th>\n",
       "      <td>IGKV</td>\n",
       "      <td>0.8203</td>\n",
       "      <td>0.8966</td>\n",
       "      <td>0.6982</td>\n",
       "      <td>0.7692</td>\n",
       "    </tr>\n",
       "    <tr>\n",
       "      <th>3</th>\n",
       "      <td>TRAV</td>\n",
       "      <td>0.8263</td>\n",
       "      <td>1.0000</td>\n",
       "      <td>0.8786</td>\n",
       "      <td>0.9615</td>\n",
       "    </tr>\n",
       "    <tr>\n",
       "      <th>4</th>\n",
       "      <td>TRGV</td>\n",
       "      <td>0.9342</td>\n",
       "      <td>0.9762</td>\n",
       "      <td>0.9880</td>\n",
       "      <td>1.0000</td>\n",
       "    </tr>\n",
       "    <tr>\n",
       "      <th>5</th>\n",
       "      <td>TRDV</td>\n",
       "      <td>0.2403</td>\n",
       "      <td>0.0000</td>\n",
       "      <td>0.3333</td>\n",
       "      <td>0.0000</td>\n",
       "    </tr>\n",
       "  </tbody>\n",
       "</table>\n",
       "</div>"
      ],
      "text/plain": [
       "  Gene Type Mean PPV Median PPV Mean Passing Proportion  \\\n",
       "0      IGHV   0.8771     0.9310                  0.3390   \n",
       "1      IGLV   0.9633     1.0000                  0.9621   \n",
       "2      IGKV   0.8203     0.8966                  0.6982   \n",
       "3      TRAV   0.8263     1.0000                  0.8786   \n",
       "4      TRGV   0.9342     0.9762                  0.9880   \n",
       "5      TRDV   0.2403     0.0000                  0.3333   \n",
       "\n",
       "  Median Passing Proportion  \n",
       "0                    0.3359  \n",
       "1                    0.9756  \n",
       "2                    0.7692  \n",
       "3                    0.9615  \n",
       "4                    1.0000  \n",
       "5                    0.0000  "
      ]
     },
     "metadata": {},
     "output_type": "display_data"
    },
    {
     "data": {
      "text/markdown": [
       "## LaTeX code for simplified table:"
      ],
      "text/plain": [
       "<IPython.core.display.Markdown object>"
      ]
     },
     "metadata": {},
     "output_type": "display_data"
    },
    {
     "data": {
      "text/markdown": [
       "```latex\n",
       "\\begin{tabular}{lllll}\n",
       "\\toprule\n",
       "Gene Type & Mean PPV & Median PPV & Mean Passing Proportion & Median Passing Proportion \\\\\n",
       "\\midrule\n",
       "IGHV & 0.8771 & 0.9310 & 0.3390 & 0.3359 \\\\\n",
       "IGLV & 0.9633 & 1.0000 & 0.9621 & 0.9756 \\\\\n",
       "IGKV & 0.8203 & 0.8966 & 0.6982 & 0.7692 \\\\\n",
       "TRAV & 0.8263 & 1.0000 & 0.8786 & 0.9615 \\\\\n",
       "TRGV & 0.9342 & 0.9762 & 0.9880 & 1.0000 \\\\\n",
       "TRDV & 0.2403 & 0.0000 & 0.3333 & 0.0000 \\\\\n",
       "\\bottomrule\n",
       "\\end{tabular}\n",
       "\n",
       "```"
      ],
      "text/plain": [
       "<IPython.core.display.Markdown object>"
      ]
     },
     "metadata": {},
     "output_type": "display_data"
    }
   ],
   "source": [
    "# ## Simplified Summary Table\n",
    "# Create a more focused table with just key metrics\n",
    "\n",
    "if gene_types_metrics:\n",
    "    display(Markdown(\"# Simplified Summary Table\"))\n",
    "    \n",
    "    # Create simplified data\n",
    "    simplified_data = []\n",
    "    \n",
    "    for gene_type, metrics in gene_types_metrics.items():\n",
    "        simplified_data.append({\n",
    "            'Gene Type': gene_type,\n",
    "            'Mean PPV': metrics['mean_ppv'],\n",
    "            'Median PPV': metrics['median_ppv'],\n",
    "            'Mean Passing Proportion': metrics['mean_passing_proportion'],\n",
    "            'Median Passing Proportion': metrics['median_passing_proportion']\n",
    "        })\n",
    "    \n",
    "    # Create DataFrame\n",
    "    simplified_df = pd.DataFrame(simplified_data)\n",
    "    \n",
    "    # Format numeric columns\n",
    "    for col in ['Mean PPV', 'Median PPV', 'Mean Passing Proportion', 'Median Passing Proportion']:\n",
    "        simplified_df[col] = simplified_df[col].map('{:.4f}'.format)\n",
    "    \n",
    "    # Display table\n",
    "    display(simplified_df)\n",
    "    \n",
    "    # Generate LaTeX code\n",
    "    latex_simplified = simplified_df.to_latex(index=False)\n",
    "    display(Markdown(\"## LaTeX code for simplified table:\"))\n",
    "    display(Markdown(f\"```latex\\n{latex_simplified}\\n```\"))"
   ]
  }
 ],
 "metadata": {
  "kernelspec": {
   "display_name": "immunotyper-methods",
   "language": "python",
   "name": "immunotyper-methods"
  },
  "language_info": {
   "codemirror_mode": {
    "name": "ipython",
    "version": 3
   },
   "file_extension": ".py",
   "mimetype": "text/x-python",
   "name": "python",
   "nbconvert_exporter": "python",
   "pygments_lexer": "ipython3",
   "version": "3.9.19"
  }
 },
 "nbformat": 4,
 "nbformat_minor": 5
}
