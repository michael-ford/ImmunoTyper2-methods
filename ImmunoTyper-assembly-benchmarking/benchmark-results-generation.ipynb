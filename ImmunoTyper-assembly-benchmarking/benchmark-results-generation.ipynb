{
 "cells": [
  {
   "cell_type": "code",
   "execution_count": 1,
   "id": "ac07c8e6-6867-4623-8652-56684e5804b4",
   "metadata": {},
   "outputs": [],
   "source": [
    "%load_ext autoreload\n",
    "%autoreload 2"
   ]
  },
  {
   "cell_type": "code",
   "execution_count": 12,
   "id": "b9abd385-902e-4d61-81cd-b6e0341464cc",
   "metadata": {},
   "outputs": [],
   "source": [
    "import os\n",
    "from glob import glob\n",
    "import pandas as pd"
   ]
  },
  {
   "cell_type": "code",
   "execution_count": 3,
   "id": "1112f765-58bc-44a7-adc9-91e5efa55a0f",
   "metadata": {},
   "outputs": [],
   "source": [
    "from benchmark_utils import *"
   ]
  },
  {
   "cell_type": "markdown",
   "id": "0ba29eb1-d17f-444d-82a0-b88f0231d2ec",
   "metadata": {},
   "source": [
    "# No CNV"
   ]
  },
  {
   "cell_type": "code",
   "execution_count": 109,
   "id": "c166e2ab-9b1c-46b7-9edb-0f67507e6de9",
   "metadata": {},
   "outputs": [
    {
     "name": "stderr",
     "output_type": "stream",
     "text": [
      "WARNING:benchmark_utils:Alleles not found in FASTA reference for HG01941: ['IGLV(VII)-41-1*unknown' 'IGLV(VI)-25-1*unknown_truncated']\n",
      "WARNING:benchmark_utils:Alleles not found in FASTA reference for HG01958: ['IGLV(VII)-41-1*unknown' 'IGLV(VI)-25-1*unknown_truncated']\n",
      "WARNING:benchmark_utils:Alleles not found in FASTA reference for HG01965: ['IGLV(VII)-41-1*unknown' 'IGLV(VI)-25-1*unknown_truncated']\n",
      "ERROR:benchmark_utils:No genotype calls file found for HG01965. Pattern: data/genotypes/IGLV/HG01965*/HG01965*IGLV_functional_allele_calls.txt\n",
      "WARNING:benchmark_utils:Alleles not found in FASTA reference for HG02019: ['IGLV(VII)-41-1*unknown']\n",
      "WARNING:benchmark_utils:Alleles not found in FASTA reference for HG02107: ['IGLV(VII)-41-1*unknown' 'IGLV(VI)-25-1*unknown_truncated']\n",
      "WARNING:benchmark_utils:Alleles not found in FASTA reference for HG02116: ['IGLV(VII)-41-1*unknown']\n",
      "WARNING:benchmark_utils:Alleles not found in FASTA reference for HG02151: ['IGLV(VII)-41-1*unknown' 'IGLV(VI)-25-1*unknown_truncated']\n",
      "WARNING:benchmark_utils:Alleles not found in FASTA reference for HG02152: ['IGLV(VII)-41-1*unknown' 'IGLV(VI)-25-1*unknown_truncated']\n",
      "WARNING:benchmark_utils:Alleles not found in FASTA reference for HG02182: ['IGLV(VII)-41-1*unknown' 'IGLV(VI)-25-1*unknown_truncated'\n",
      " 'IGLV4-3*unknown_truncated']\n",
      "WARNING:benchmark_utils:Alleles not found in FASTA reference for HG02224: ['IGLV(I)-42*unknown' 'IGLV(VII)-41-1*unknown' 'IGLV(I)-38*unknown'\n",
      " 'IGLV(VI)-25-1*unknown_truncated']\n",
      "WARNING:benchmark_utils:Alleles not found in FASTA reference for HG02272: ['IGLV(VII)-41-1*unknown' 'IGLV(VI)-25-1*unknown_truncated']\n",
      "WARNING:benchmark_utils:Alleles not found in FASTA reference for HG02274: ['IGLV(VII)-41-1*unknown' 'IGLV(VI)-25-1*unknown_truncated']\n",
      "WARNING:benchmark_utils:Alleles not found in FASTA reference for HG02278: ['IGLV(VII)-41-1*unknown' 'IGLV(VI)-25-1*unknown_truncated']\n",
      "WARNING:benchmark_utils:Alleles not found in FASTA reference for HG02284: ['IGLV(VII)-41-1*unknown' 'IGLV(VI)-25-1*unknown_truncated']\n",
      "WARNING:benchmark_utils:Alleles not found in FASTA reference for HG02292: ['IGLV(I)-42*unknown' 'IGLV(VII)-41-1*unknown'\n",
      " 'IGLV(VI)-25-1*unknown_truncated']\n",
      "WARNING:benchmark_utils:Alleles not found in FASTA reference for HG02355: ['IGLV(VII)-41-1*unknown' 'IGLV(VI)-25-1*unknown_truncated']\n"
     ]
    }
   ],
   "source": [
    "gene_type = 'IGLV'\n",
    "\n",
    "# Create empty lists to store results\n",
    "results = []\n",
    "\n",
    "for sample_path in glob(f'data/assembly-annotations/{gene_type}-reference-annotations/*'):\n",
    "    sample = os.path.basename(sample_path)\n",
    "    df, functional_ground_truth_set = load_assembly_annotations(sample, gene_type)\n",
    "    try:\n",
    "        genotypes = load_genotype_calls(sample, gene_type)\n",
    "    except FileNotFoundError:\n",
    "        continue\n",
    "    \n",
    "    tp, fp, fn = calculate_accuracy_metrics(list(genotypes), list(functional_ground_truth_set))\n",
    "    precision, recall = calculate_precision_recall(tp, fp, fn)\n",
    "    \n",
    "    # Store results for this sample\n",
    "    results.append({\n",
    "        'sample': sample,\n",
    "        'precision': precision,\n",
    "        'recall': recall,\n",
    "        'true_positives': tp,\n",
    "        'false_positives': fp,\n",
    "        'false_negatives': fn,\n",
    "        'genotypes': list(set(genotypes)),\n",
    "        'ground_truth': list(set(functional_ground_truth_set)),\n",
    "        'gene_type': gene_type\n",
    "    })\n",
    "\n",
    "# Create DataFrame from results\n",
    "results_df = pd.DataFrame(results)"
   ]
  },
  {
   "cell_type": "code",
   "execution_count": 110,
   "id": "96f16f54-7487-432a-b50e-a1a58a6ee689",
   "metadata": {},
   "outputs": [
    {
     "name": "stderr",
     "output_type": "stream",
     "text": [
      "WARNING:benchmark_utils:Alleles not found in FASTA reference for HG01175: ['TRAV17*unknown' 'TRAV8-5*unknown']\n",
      "WARNING:benchmark_utils:Alleles not found in FASTA reference for HG01361: ['TRAV8-5*unknown']\n",
      "WARNING:benchmark_utils:Alleles not found in FASTA reference for HG02059: ['TRAV40*unknown' 'TRAV8-5*unknown']\n",
      "WARNING:benchmark_utils:Alleles not found in FASTA reference for HG02060: ['TRAV26-1*unknown' 'TRAV8-5*01_modified' 'TRAV8-5*unknown']\n",
      "WARNING:benchmark_utils:Alleles not found in FASTA reference for HG02061: ['TRAVB*unknown' 'TRAV8-5*unknown']\n",
      "WARNING:benchmark_utils:Alleles not found in FASTA reference for NA10831: ['TRAV8-5*unknown']\n",
      "WARNING:benchmark_utils:Alleles not found in FASTA reference for NA18506: ['TRAV8-5*unknown' 'TRAV13-2*unknown']\n",
      "WARNING:benchmark_utils:Alleles not found in FASTA reference for NA18507: ['TRAV8-5*unknown']\n",
      "WARNING:benchmark_utils:Alleles not found in FASTA reference for NA18508: ['TRAV8-5*unknown']\n",
      "WARNING:benchmark_utils:Alleles not found in FASTA reference for NA18517: ['TRAV8-5*unknown']\n",
      "WARNING:benchmark_utils:Alleles not found in FASTA reference for NA18956: ['TRAV8-5*unknown']\n"
     ]
    }
   ],
   "source": [
    "gene_type = 'TRAV'\n",
    "\n",
    "# Create empty lists to store results\n",
    "results = []\n",
    "\n",
    "for sample_path in glob(f'data/assembly-annotations/{gene_type}-reference-annotations/*'):\n",
    "    sample = os.path.basename(sample_path)\n",
    "    df, functional_ground_truth_set = load_assembly_annotations(sample, gene_type)\n",
    "    try:\n",
    "        genotypes = load_genotype_calls(sample, gene_type)\n",
    "    except FileNotFoundError:\n",
    "        continue\n",
    "    \n",
    "    tp, fp, fn = calculate_accuracy_metrics(list(set(genotypes)), list(set(functional_ground_truth_set)))\n",
    "    precision, recall = calculate_precision_recall(tp, fp, fn)\n",
    "    \n",
    "    # Store results for this sample\n",
    "    results.append({\n",
    "        'sample': sample,\n",
    "        'precision': precision,\n",
    "        'recall': recall,\n",
    "        'true_positives': tp,\n",
    "        'false_positives': fp,\n",
    "        'false_negatives': fn,\n",
    "        'genotypes': list(set(genotypes)),\n",
    "        'ground_truth': list(set(functional_ground_truth_set)),\n",
    "        'gene_type': gene_type\n",
    "    })\n",
    "\n",
    "trav_results_df = pd.DataFrame(results)\n",
    "\n",
    "# Concatenate the two DataFrames\n",
    "results_df = pd.concat([results_df, trav_results_df], ignore_index=True)"
   ]
  },
  {
   "cell_type": "code",
   "execution_count": 111,
   "id": "38b916dd-c339-4fce-8a84-b91ede46b6bd",
   "metadata": {},
   "outputs": [
    {
     "name": "stdout",
     "output_type": "stream",
     "text": [
      "\\multirow{2}{*}{Gene type}             & Precision       & Recall          & Precision     & Recall       \\\\\n",
      "                      & (mean)          & (mean)          & (median)      & (median)     \\\\\n",
      "\\midrule\n",
      "\\textit{IGLV} & 0.928                & 0.934                & 0.971                & 0.971 \\\\\n",
      "\\textit{TRAV} & 0.916                & 0.991                & 0.925                & 1.0\\\\\n"
     ]
    }
   ],
   "source": [
    "# Calculate statistics for each gene type\n",
    "stats = results_df.groupby('gene_type').agg({\n",
    "    'precision': ['mean', 'median'],\n",
    "    'recall': ['mean', 'median']\n",
    "}).round(3)\n",
    "\n",
    "# Generate LaTeX table\n",
    "latex_table = f\"\"\"\\\\multirow{{2}}{{*}}{{Gene type}}             & Precision       & Recall          & Precision     & Recall       \\\\\\\\\n",
    "                      & (mean)          & (mean)          & (median)      & (median)     \\\\\\\\\n",
    "\\\\midrule\n",
    "\\\\textit{{IGLV}} & {stats.loc['IGLV', ('precision', 'mean')]}                & {stats.loc['IGLV', ('recall', 'mean')]}                & {stats.loc['IGLV', ('precision', 'median')]}                & {stats.loc['IGLV', ('recall', 'median')]} \\\\\\\\\n",
    "\\\\textit{{TRAV}} & {stats.loc['TRAV', ('precision', 'mean')]}                & {stats.loc['TRAV', ('recall', 'mean')]}                & {stats.loc['TRAV', ('precision', 'median')]}                & {stats.loc['TRAV', ('recall', 'median')]}\\\\\\\\\"\"\"\n",
    "\n",
    "print(latex_table)"
   ]
  },
  {
   "cell_type": "markdown",
   "id": "38be66d6-ea46-4df4-9a10-2b5cdc9ec803",
   "metadata": {},
   "source": [
    "# CNV Sensitive"
   ]
  },
  {
   "cell_type": "code",
   "execution_count": 114,
   "id": "8ad152d3-0a3c-4aed-ab87-ac13f3b715c3",
   "metadata": {},
   "outputs": [
    {
     "name": "stderr",
     "output_type": "stream",
     "text": [
      "WARNING:benchmark_utils:Alleles not found in FASTA reference for HG01941: ['IGLV(VII)-41-1*unknown' 'IGLV(VI)-25-1*unknown_truncated']\n",
      "WARNING:benchmark_utils:Alleles not found in FASTA reference for HG01958: ['IGLV(VII)-41-1*unknown' 'IGLV(VI)-25-1*unknown_truncated']\n",
      "WARNING:benchmark_utils:Alleles not found in FASTA reference for HG01965: ['IGLV(VII)-41-1*unknown' 'IGLV(VI)-25-1*unknown_truncated']\n",
      "ERROR:benchmark_utils:No genotype calls file found for HG01965. Pattern: data/genotypes/IGLV/HG01965*/HG01965*IGLV_functional_allele_calls.txt\n",
      "WARNING:benchmark_utils:Alleles not found in FASTA reference for HG02019: ['IGLV(VII)-41-1*unknown']\n",
      "WARNING:benchmark_utils:Alleles not found in FASTA reference for HG02107: ['IGLV(VII)-41-1*unknown' 'IGLV(VI)-25-1*unknown_truncated']\n",
      "WARNING:benchmark_utils:Alleles not found in FASTA reference for HG02116: ['IGLV(VII)-41-1*unknown']\n",
      "WARNING:benchmark_utils:Alleles not found in FASTA reference for HG02151: ['IGLV(VII)-41-1*unknown' 'IGLV(VI)-25-1*unknown_truncated']\n",
      "WARNING:benchmark_utils:Alleles not found in FASTA reference for HG02152: ['IGLV(VII)-41-1*unknown' 'IGLV(VI)-25-1*unknown_truncated']\n",
      "WARNING:benchmark_utils:Alleles not found in FASTA reference for HG02182: ['IGLV(VII)-41-1*unknown' 'IGLV(VI)-25-1*unknown_truncated'\n",
      " 'IGLV4-3*unknown_truncated']\n",
      "WARNING:benchmark_utils:Alleles not found in FASTA reference for HG02224: ['IGLV(I)-42*unknown' 'IGLV(VII)-41-1*unknown' 'IGLV(I)-38*unknown'\n",
      " 'IGLV(VI)-25-1*unknown_truncated']\n",
      "WARNING:benchmark_utils:Alleles not found in FASTA reference for HG02272: ['IGLV(VII)-41-1*unknown' 'IGLV(VI)-25-1*unknown_truncated']\n",
      "WARNING:benchmark_utils:Alleles not found in FASTA reference for HG02274: ['IGLV(VII)-41-1*unknown' 'IGLV(VI)-25-1*unknown_truncated']\n",
      "WARNING:benchmark_utils:Alleles not found in FASTA reference for HG02278: ['IGLV(VII)-41-1*unknown' 'IGLV(VI)-25-1*unknown_truncated']\n",
      "WARNING:benchmark_utils:Alleles not found in FASTA reference for HG02284: ['IGLV(VII)-41-1*unknown' 'IGLV(VI)-25-1*unknown_truncated']\n",
      "WARNING:benchmark_utils:Alleles not found in FASTA reference for HG02292: ['IGLV(I)-42*unknown' 'IGLV(VII)-41-1*unknown'\n",
      " 'IGLV(VI)-25-1*unknown_truncated']\n",
      "WARNING:benchmark_utils:Alleles not found in FASTA reference for HG02355: ['IGLV(VII)-41-1*unknown' 'IGLV(VI)-25-1*unknown_truncated']\n"
     ]
    }
   ],
   "source": [
    "gene_type = 'IGLV'\n",
    "\n",
    "# Create empty lists to store results\n",
    "results = []\n",
    "\n",
    "for sample_path in glob(f'data/assembly-annotations/{gene_type}-reference-annotations/*'):\n",
    "    sample = os.path.basename(sample_path)\n",
    "    df, functional_ground_truth_set = load_assembly_annotations(sample, gene_type)\n",
    "    try:\n",
    "        genotypes = load_genotype_calls(sample, gene_type)\n",
    "    except FileNotFoundError:\n",
    "        continue\n",
    "    \n",
    "    tp, fp, fn = calculate_accuracy_metrics(genotypes, functional_ground_truth_set, cnv=True)\n",
    "    precision, recall = calculate_precision_recall(tp, fp, fn)\n",
    "    \n",
    "    # Store results for this sample\n",
    "    results.append({\n",
    "        'sample': sample,\n",
    "        'precision': precision,\n",
    "        'recall': recall,\n",
    "        'true_positives': tp,\n",
    "        'false_positives': fp,\n",
    "        'false_negatives': fn,\n",
    "        'genotypes': list(set(genotypes)),\n",
    "        'ground_truth': list(set(functional_ground_truth_set)),\n",
    "        'gene_type': gene_type\n",
    "    })\n",
    "\n",
    "# Create DataFrame from results\n",
    "results_df = pd.DataFrame(results)"
   ]
  },
  {
   "cell_type": "code",
   "execution_count": 115,
   "id": "0f8a4d04-d2c0-4749-9e64-c08434637797",
   "metadata": {},
   "outputs": [
    {
     "name": "stderr",
     "output_type": "stream",
     "text": [
      "WARNING:benchmark_utils:Alleles not found in FASTA reference for HG01175: ['TRAV17*unknown' 'TRAV8-5*unknown']\n",
      "WARNING:benchmark_utils:Alleles not found in FASTA reference for HG01361: ['TRAV8-5*unknown']\n",
      "WARNING:benchmark_utils:Alleles not found in FASTA reference for HG02059: ['TRAV40*unknown' 'TRAV8-5*unknown']\n",
      "WARNING:benchmark_utils:Alleles not found in FASTA reference for HG02060: ['TRAV26-1*unknown' 'TRAV8-5*01_modified' 'TRAV8-5*unknown']\n",
      "WARNING:benchmark_utils:Alleles not found in FASTA reference for HG02061: ['TRAVB*unknown' 'TRAV8-5*unknown']\n",
      "WARNING:benchmark_utils:Alleles not found in FASTA reference for NA10831: ['TRAV8-5*unknown']\n",
      "WARNING:benchmark_utils:Alleles not found in FASTA reference for NA18506: ['TRAV8-5*unknown' 'TRAV13-2*unknown']\n",
      "WARNING:benchmark_utils:Alleles not found in FASTA reference for NA18507: ['TRAV8-5*unknown']\n",
      "WARNING:benchmark_utils:Alleles not found in FASTA reference for NA18508: ['TRAV8-5*unknown']\n",
      "WARNING:benchmark_utils:Alleles not found in FASTA reference for NA18517: ['TRAV8-5*unknown']\n",
      "WARNING:benchmark_utils:Alleles not found in FASTA reference for NA18956: ['TRAV8-5*unknown']\n"
     ]
    }
   ],
   "source": [
    "gene_type = 'TRAV'\n",
    "\n",
    "# Create empty lists to store results\n",
    "results = []\n",
    "\n",
    "for sample_path in glob(f'data/assembly-annotations/{gene_type}-reference-annotations/*'):\n",
    "    sample = os.path.basename(sample_path)\n",
    "    df, functional_ground_truth_set = load_assembly_annotations(sample, gene_type)\n",
    "    try:\n",
    "        genotypes = load_genotype_calls(sample, gene_type)\n",
    "    except FileNotFoundError:\n",
    "        continue\n",
    "    \n",
    "    tp, fp, fn = calculate_accuracy_metrics(genotypes, functional_ground_truth_set, cnv=True)\n",
    "    precision, recall = calculate_precision_recall(tp, fp, fn)\n",
    "    \n",
    "    # Store results for this sample\n",
    "    results.append({\n",
    "        'sample': sample,\n",
    "        'precision': precision,\n",
    "        'recall': recall,\n",
    "        'true_positives': tp,\n",
    "        'false_positives': fp,\n",
    "        'false_negatives': fn,\n",
    "        'genotypes': list(set(genotypes)),\n",
    "        'ground_truth': list(set(functional_ground_truth_set)),\n",
    "        'gene_type': gene_type\n",
    "    })\n",
    "\n",
    "trav_results_df = pd.DataFrame(results)\n",
    "\n",
    "# Concatenate the two DataFrames\n",
    "results_df = pd.concat([results_df, trav_results_df], ignore_index=True)"
   ]
  },
  {
   "cell_type": "code",
   "execution_count": 116,
   "id": "1569cea3-0894-4be6-ac75-a57eea02a4eb",
   "metadata": {},
   "outputs": [
    {
     "name": "stdout",
     "output_type": "stream",
     "text": [
      "\\multirow{2}{*}{Gene type}             & Precision       & Recall          & Precision     & Recall       \\\\\n",
      "                      & (mean)          & (mean)          & (median)      & (median)     \\\\\n",
      "\\midrule\n",
      "\\textit{IGLV} & 0.902                & 0.758                & 0.937                & 0.762 \\\\\n",
      "\\textit{TRAV} & 0.883                & 0.875                & 0.874                & 0.882\\\\\n"
     ]
    }
   ],
   "source": [
    "# Calculate statistics for each gene type\n",
    "stats = results_df.groupby('gene_type').agg({\n",
    "    'precision': ['mean', 'median'],\n",
    "    'recall': ['mean', 'median']\n",
    "}).round(3)\n",
    "\n",
    "# Generate LaTeX table\n",
    "latex_table = f\"\"\"\\\\multirow{{2}}{{*}}{{Gene type}}             & Precision       & Recall          & Precision     & Recall       \\\\\\\\\n",
    "                      & (mean)          & (mean)          & (median)      & (median)     \\\\\\\\\n",
    "\\\\midrule\n",
    "\\\\textit{{IGLV}} & {stats.loc['IGLV', ('precision', 'mean')]}                & {stats.loc['IGLV', ('recall', 'mean')]}                & {stats.loc['IGLV', ('precision', 'median')]}                & {stats.loc['IGLV', ('recall', 'median')]} \\\\\\\\\n",
    "\\\\textit{{TRAV}} & {stats.loc['TRAV', ('precision', 'mean')]}                & {stats.loc['TRAV', ('recall', 'mean')]}                & {stats.loc['TRAV', ('precision', 'median')]}                & {stats.loc['TRAV', ('recall', 'median')]}\\\\\\\\\"\"\"\n",
    "\n",
    "print(latex_table)"
   ]
  }
 ],
 "metadata": {
  "kernelspec": {
   "display_name": "python3 (immunotyper-ill)",
   "language": "python",
   "name": "immunotyper-ill"
  },
  "language_info": {
   "codemirror_mode": {
    "name": "ipython",
    "version": 3
   },
   "file_extension": ".py",
   "mimetype": "text/x-python",
   "name": "python",
   "nbconvert_exporter": "python",
   "pygments_lexer": "ipython3",
   "version": "3.8.13"
  }
 },
 "nbformat": 4,
 "nbformat_minor": 5
}
